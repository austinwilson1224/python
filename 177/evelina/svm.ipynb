{
 "metadata": {
  "language_info": {
   "codemirror_mode": {
    "name": "ipython",
    "version": 3
   },
   "file_extension": ".py",
   "mimetype": "text/x-python",
   "name": "python",
   "nbconvert_exporter": "python",
   "pygments_lexer": "ipython3",
   "version": "3.8.3-final"
  },
  "orig_nbformat": 2,
  "kernelspec": {
   "name": "python3",
   "display_name": "Python 3"
  }
 },
 "nbformat": 4,
 "nbformat_minor": 2,
 "cells": [
  {
   "cell_type": "code",
   "execution_count": 162,
   "metadata": {},
   "outputs": [],
   "source": [
    "import numpy as np \n",
    "import pandas as pd \n",
    "from sklearn.model_selection import train_test_split\n",
    "from sklearn.preprocessing import LabelEncoder\n",
    "from sklearn.preprocessing import OneHotEncoder\n",
    "from matplotlib import pyplot as plt\n",
    "from sklearn.svm import SVC\n",
    "\n",
    "path = \"/Users/austinwilson/Downloads/weather.csv\"\n",
    "\n",
    "weather = pd.read_csv(path, na_values='NA')\n",
    "\n",
    "\n",
    "weather.dropna(inplace=True)"
   ]
  },
  {
   "cell_type": "code",
   "execution_count": 163,
   "metadata": {},
   "outputs": [],
   "source": [
    "def normalize(df, columns):\n",
    "    for col in columns:\n",
    "        avg = np.mean(df[col])\n",
    "        std = np.std(df[col])\n",
    "        df[col] = ( df[col] - avg ) / std"
   ]
  },
  {
   "cell_type": "code",
   "execution_count": 305,
   "metadata": {},
   "outputs": [
    {
     "output_type": "execute_result",
     "data": {
      "text/plain": [
       "   Humidity3pm  Rainfall RainTomorrow\n",
       "0           29       0.0          Yes\n",
       "1           36       3.6          Yes\n",
       "2           69       3.6          Yes\n",
       "3           56      39.8          Yes\n",
       "4           49       2.8           No"
      ],
      "text/html": "<div>\n<style scoped>\n    .dataframe tbody tr th:only-of-type {\n        vertical-align: middle;\n    }\n\n    .dataframe tbody tr th {\n        vertical-align: top;\n    }\n\n    .dataframe thead th {\n        text-align: right;\n    }\n</style>\n<table border=\"1\" class=\"dataframe\">\n  <thead>\n    <tr style=\"text-align: right;\">\n      <th></th>\n      <th>Humidity3pm</th>\n      <th>Rainfall</th>\n      <th>RainTomorrow</th>\n    </tr>\n  </thead>\n  <tbody>\n    <tr>\n      <th>0</th>\n      <td>29</td>\n      <td>0.0</td>\n      <td>Yes</td>\n    </tr>\n    <tr>\n      <th>1</th>\n      <td>36</td>\n      <td>3.6</td>\n      <td>Yes</td>\n    </tr>\n    <tr>\n      <th>2</th>\n      <td>69</td>\n      <td>3.6</td>\n      <td>Yes</td>\n    </tr>\n    <tr>\n      <th>3</th>\n      <td>56</td>\n      <td>39.8</td>\n      <td>Yes</td>\n    </tr>\n    <tr>\n      <th>4</th>\n      <td>49</td>\n      <td>2.8</td>\n      <td>No</td>\n    </tr>\n  </tbody>\n</table>\n</div>"
     },
     "metadata": {},
     "execution_count": 305
    }
   ],
   "source": [
    "#columns = ['Rainfall','Sunshine','MaxTemp','Evaporation','RISK_MM','RainTomorrow']\n",
    "\n",
    "columns = ['Rainfall','Sunshine','RainTomorrow']\n",
    "columns = ['Humidity3pm','Rainfall','RainTomorrow']\n",
    "\n",
    "svm_data = weather[columns]\n",
    "# svm_data = svm_data[(svm_data.Rainfall < 10)]\n",
    "# svm_data = svm_data[(svm_data.Rainfall < 10)]\n",
    "#categorical_columns = ['WindGustDir','WindDir9am', 'WindDir3pm', 'RainToday']\n",
    "#svm_data = weather.drop(categorical_columns,axis=1)\n",
    "\n",
    "svm_data.head()\n",
    "\n"
   ]
  },
  {
   "cell_type": "code",
   "execution_count": 306,
   "metadata": {},
   "outputs": [
    {
     "output_type": "execute_result",
     "data": {
      "text/plain": [
       "    Humidity3pm  Rainfall  RainTomorrow\n",
       "0            29       0.0             1\n",
       "1            36       3.6             1\n",
       "2            69       3.6             1\n",
       "3            56      39.8             1\n",
       "4            49       2.8             0\n",
       "5            57       0.0             0\n",
       "6            47       0.2             0\n",
       "7            57       0.0             0\n",
       "8            48       0.0             1\n",
       "9            32      16.2             0\n",
       "10           34       0.0             0\n",
       "11           35       0.2             0\n",
       "12           29       0.0             0\n",
       "13           20       0.0             0\n",
       "14           16       0.0             0\n",
       "15           22       0.0             0\n",
       "16           23       0.0             1\n",
       "17           26       1.2             0\n",
       "18           25       0.6             0\n",
       "19           27       0.0             0"
      ],
      "text/html": "<div>\n<style scoped>\n    .dataframe tbody tr th:only-of-type {\n        vertical-align: middle;\n    }\n\n    .dataframe tbody tr th {\n        vertical-align: top;\n    }\n\n    .dataframe thead th {\n        text-align: right;\n    }\n</style>\n<table border=\"1\" class=\"dataframe\">\n  <thead>\n    <tr style=\"text-align: right;\">\n      <th></th>\n      <th>Humidity3pm</th>\n      <th>Rainfall</th>\n      <th>RainTomorrow</th>\n    </tr>\n  </thead>\n  <tbody>\n    <tr>\n      <th>0</th>\n      <td>29</td>\n      <td>0.0</td>\n      <td>1</td>\n    </tr>\n    <tr>\n      <th>1</th>\n      <td>36</td>\n      <td>3.6</td>\n      <td>1</td>\n    </tr>\n    <tr>\n      <th>2</th>\n      <td>69</td>\n      <td>3.6</td>\n      <td>1</td>\n    </tr>\n    <tr>\n      <th>3</th>\n      <td>56</td>\n      <td>39.8</td>\n      <td>1</td>\n    </tr>\n    <tr>\n      <th>4</th>\n      <td>49</td>\n      <td>2.8</td>\n      <td>0</td>\n    </tr>\n    <tr>\n      <th>5</th>\n      <td>57</td>\n      <td>0.0</td>\n      <td>0</td>\n    </tr>\n    <tr>\n      <th>6</th>\n      <td>47</td>\n      <td>0.2</td>\n      <td>0</td>\n    </tr>\n    <tr>\n      <th>7</th>\n      <td>57</td>\n      <td>0.0</td>\n      <td>0</td>\n    </tr>\n    <tr>\n      <th>8</th>\n      <td>48</td>\n      <td>0.0</td>\n      <td>1</td>\n    </tr>\n    <tr>\n      <th>9</th>\n      <td>32</td>\n      <td>16.2</td>\n      <td>0</td>\n    </tr>\n    <tr>\n      <th>10</th>\n      <td>34</td>\n      <td>0.0</td>\n      <td>0</td>\n    </tr>\n    <tr>\n      <th>11</th>\n      <td>35</td>\n      <td>0.2</td>\n      <td>0</td>\n    </tr>\n    <tr>\n      <th>12</th>\n      <td>29</td>\n      <td>0.0</td>\n      <td>0</td>\n    </tr>\n    <tr>\n      <th>13</th>\n      <td>20</td>\n      <td>0.0</td>\n      <td>0</td>\n    </tr>\n    <tr>\n      <th>14</th>\n      <td>16</td>\n      <td>0.0</td>\n      <td>0</td>\n    </tr>\n    <tr>\n      <th>15</th>\n      <td>22</td>\n      <td>0.0</td>\n      <td>0</td>\n    </tr>\n    <tr>\n      <th>16</th>\n      <td>23</td>\n      <td>0.0</td>\n      <td>1</td>\n    </tr>\n    <tr>\n      <th>17</th>\n      <td>26</td>\n      <td>1.2</td>\n      <td>0</td>\n    </tr>\n    <tr>\n      <th>18</th>\n      <td>25</td>\n      <td>0.6</td>\n      <td>0</td>\n    </tr>\n    <tr>\n      <th>19</th>\n      <td>27</td>\n      <td>0.0</td>\n      <td>0</td>\n    </tr>\n  </tbody>\n</table>\n</div>"
     },
     "metadata": {},
     "execution_count": 306
    }
   ],
   "source": [
    "le = LabelEncoder()\n",
    "svm_data.RainTomorrow = le.fit_transform(svm_data.RainTomorrow)\n",
    "X = svm_data.drop(\"RainTomorrow\", axis=1)\n",
    "y = svm_data['RainTomorrow']\n",
    "svm_data.head(20)"
   ]
  },
  {
   "cell_type": "code",
   "execution_count": 307,
   "metadata": {},
   "outputs": [],
   "source": [
    "# normalize(svm_data, [\"Rainfall\",\"Sunshine\",\"MaxTemp\",\"Evaporation\",\"RISK_MM\"])"
   ]
  },
  {
   "cell_type": "code",
   "execution_count": 308,
   "metadata": {},
   "outputs": [],
   "source": [
    "x_train,x_test,y_train,y_test = train_test_split(X, y, test_size=.2, random_state=1)"
   ]
  },
  {
   "cell_type": "code",
   "execution_count": 309,
   "metadata": {},
   "outputs": [
    {
     "output_type": "stream",
     "name": "stdout",
     "text": [
      "(262, 2)\n(262,)\n(66, 2)\n(66,)\n"
     ]
    }
   ],
   "source": [
    "print(x_train.shape)\n",
    "print(y_train.shape)\n",
    "print(x_test.shape)\n",
    "print(y_test.shape)"
   ]
  },
  {
   "cell_type": "code",
   "execution_count": 310,
   "metadata": {},
   "outputs": [],
   "source": [
    "model = SVC(C=15.0, cache_size=200)\n",
    "clf = SVC(kernel=\"linear\",C=1000)"
   ]
  },
  {
   "cell_type": "code",
   "execution_count": 291,
   "metadata": {},
   "outputs": [
    {
     "output_type": "execute_result",
     "data": {
      "text/plain": [
       "SVC(C=1000, kernel='linear')"
      ]
     },
     "metadata": {},
     "execution_count": 291
    }
   ],
   "source": [
    "model.fit(x_train,y_train)\n",
    "clf.fit(x_train,y_train)\n"
   ]
  },
  {
   "cell_type": "code",
   "execution_count": 292,
   "metadata": {},
   "outputs": [
    {
     "output_type": "execute_result",
     "data": {
      "text/plain": [
       "0.803030303030303"
      ]
     },
     "metadata": {},
     "execution_count": 292
    }
   ],
   "source": [
    "model.score(x_test,y_test)"
   ]
  },
  {
   "cell_type": "code",
   "execution_count": 293,
   "metadata": {},
   "outputs": [
    {
     "output_type": "execute_result",
     "data": {
      "text/plain": [
       "0.8181818181818182"
      ]
     },
     "metadata": {},
     "execution_count": 293
    }
   ],
   "source": [
    "clf.score(x_test,y_test)"
   ]
  },
  {
   "cell_type": "code",
   "execution_count": 294,
   "metadata": {},
   "outputs": [],
   "source": [
    "pred = model.predict(x_test)\n",
    "pred2 = clf.predict(x_test)"
   ]
  },
  {
   "cell_type": "code",
   "execution_count": 295,
   "metadata": {},
   "outputs": [
    {
     "output_type": "execute_result",
     "data": {
      "text/plain": [
       "array([0, 0, 0, 0, 0, 0, 0, 0, 0, 0, 0, 0, 0, 0, 0, 0, 0, 0, 0, 0, 0, 0,\n",
       "       0, 0, 0, 0, 0, 0, 0, 0, 0, 0, 0, 0, 0, 0, 0, 0, 0, 0, 0, 0, 0, 0,\n",
       "       0, 0, 0, 0, 0, 0, 0, 0, 0, 0, 0, 0, 0, 0, 0, 0, 0, 0, 0, 0, 0, 0])"
      ]
     },
     "metadata": {},
     "execution_count": 295
    }
   ],
   "source": [
    "pred2"
   ]
  },
  {
   "cell_type": "code",
   "execution_count": 296,
   "metadata": {},
   "outputs": [
    {
     "output_type": "execute_result",
     "data": {
      "text/plain": [
       "array(['No', 'No', 'No', 'No', 'No', 'No', 'No', 'No', 'No', 'No', 'No',\n",
       "       'No', 'No', 'No', 'No', 'No', 'No', 'No', 'No', 'No', 'No', 'No',\n",
       "       'No', 'No', 'No', 'No', 'No', 'No', 'No', 'No', 'No', 'No', 'No',\n",
       "       'No', 'No', 'No', 'No', 'No', 'No', 'No', 'No', 'No', 'No', 'No',\n",
       "       'No', 'No', 'No', 'No', 'No', 'No', 'No', 'No', 'No', 'No', 'No',\n",
       "       'No', 'No', 'No', 'No', 'No', 'No', 'No', 'No', 'No', 'No', 'No'],\n",
       "      dtype=object)"
      ]
     },
     "metadata": {},
     "execution_count": 296
    }
   ],
   "source": [
    "le.inverse_transform(pred2)"
   ]
  },
  {
   "source": [
    "le.inverse_transform(y_test)\n"
   ],
   "cell_type": "code",
   "metadata": {},
   "execution_count": 297,
   "outputs": [
    {
     "output_type": "execute_result",
     "data": {
      "text/plain": [
       "array(['No', 'No', 'No', 'No', 'No', 'No', 'No', 'No', 'No', 'No', 'No',\n",
       "       'No', 'Yes', 'No', 'Yes', 'No', 'No', 'No', 'No', 'No', 'No', 'No',\n",
       "       'No', 'No', 'No', 'Yes', 'No', 'No', 'No', 'No', 'No', 'No', 'Yes',\n",
       "       'No', 'Yes', 'No', 'No', 'No', 'Yes', 'No', 'Yes', 'No', 'No',\n",
       "       'Yes', 'No', 'No', 'Yes', 'No', 'Yes', 'No', 'No', 'No', 'No',\n",
       "       'No', 'No', 'No', 'No', 'No', 'No', 'Yes', 'No', 'No', 'No', 'Yes',\n",
       "       'No', 'No'], dtype=object)"
      ]
     },
     "metadata": {},
     "execution_count": 297
    }
   ]
  },
  {
   "cell_type": "code",
   "execution_count": 314,
   "metadata": {},
   "outputs": [
    {
     "output_type": "display_data",
     "data": {
      "text/plain": "<Figure size 432x288 with 1 Axes>",
      "image/svg+xml": "<?xml version=\"1.0\" encoding=\"utf-8\" standalone=\"no\"?>\n<!DOCTYPE svg PUBLIC \"-//W3C//DTD SVG 1.1//EN\"\n  \"http://www.w3.org/Graphics/SVG/1.1/DTD/svg11.dtd\">\n<!-- Created with matplotlib (https://matplotlib.org/) -->\n<svg height=\"248.518125pt\" version=\"1.1\" viewBox=\"0 0 378.465625 248.518125\" width=\"378.465625pt\" xmlns=\"http://www.w3.org/2000/svg\" xmlns:xlink=\"http://www.w3.org/1999/xlink\">\n <defs>\n  <style type=\"text/css\">\n*{stroke-linecap:butt;stroke-linejoin:round;}\n  </style>\n </defs>\n <g id=\"figure_1\">\n  <g id=\"patch_1\">\n   <path d=\"M 0 248.518125 \nL 378.465625 248.518125 \nL 378.465625 0 \nL 0 0 \nz\n\" style=\"fill:none;\"/>\n  </g>\n  <g id=\"axes_1\">\n   <g id=\"patch_2\">\n    <path d=\"M 36.465625 224.64 \nL 371.265625 224.64 \nL 371.265625 7.2 \nL 36.465625 7.2 \nz\n\" style=\"fill:#ffffff;\"/>\n   </g>\n   <g id=\"PathCollection_1\">\n    <defs>\n     <path d=\"M 0 2.738613 \nC 0.726289 2.738613 1.422928 2.450055 1.936492 1.936492 \nC 2.450055 1.422928 2.738613 0.726289 2.738613 0 \nC 2.738613 -0.726289 2.450055 -1.422928 1.936492 -1.936492 \nC 1.422928 -2.450055 0.726289 -2.738613 0 -2.738613 \nC -0.726289 -2.738613 -1.422928 -2.450055 -1.936492 -1.936492 \nC -2.450055 -1.422928 -2.738613 -0.726289 -2.738613 0 \nC -2.738613 0.726289 -2.450055 1.422928 -1.936492 1.936492 \nC -1.422928 2.450055 -0.726289 2.738613 0 2.738613 \nz\n\" id=\"C0_0_e9b71c1ca6\"/>\n    </defs>\n    <g clip-path=\"url(#p3e0bc0fc4e)\">\n     <use style=\"fill:#a6cee3;stroke:#a6cee3;\" x=\"140.893838\" xlink:href=\"#C0_0_e9b71c1ca6\" y=\"214.756364\"/>\n    </g>\n    <g clip-path=\"url(#p3e0bc0fc4e)\">\n     <use style=\"fill:#a6cee3;stroke:#a6cee3;\" x=\"230.10387\" xlink:href=\"#C0_0_e9b71c1ca6\" y=\"214.756364\"/>\n    </g>\n    <g clip-path=\"url(#p3e0bc0fc4e)\">\n     <use style=\"fill:#a6cee3;stroke:#a6cee3;\" x=\"156.636785\" xlink:href=\"#C0_0_e9b71c1ca6\" y=\"214.756364\"/>\n    </g>\n    <g clip-path=\"url(#p3e0bc0fc4e)\">\n     <use style=\"fill:#a6cee3;stroke:#a6cee3;\" x=\"261.589763\" xlink:href=\"#C0_0_e9b71c1ca6\" y=\"214.756364\"/>\n    </g>\n    <g clip-path=\"url(#p3e0bc0fc4e)\">\n     <use style=\"fill:#a6cee3;stroke:#a6cee3;\" x=\"177.62738\" xlink:href=\"#C0_0_e9b71c1ca6\" y=\"214.756364\"/>\n    </g>\n    <g clip-path=\"url(#p3e0bc0fc4e)\">\n     <use style=\"fill:#a6cee3;stroke:#a6cee3;\" x=\"182.875029\" xlink:href=\"#C0_0_e9b71c1ca6\" y=\"214.756364\"/>\n    </g>\n    <g clip-path=\"url(#p3e0bc0fc4e)\">\n     <use style=\"fill:#a6cee3;stroke:#a6cee3;\" x=\"261.589763\" xlink:href=\"#C0_0_e9b71c1ca6\" y=\"214.756364\"/>\n    </g>\n    <g clip-path=\"url(#p3e0bc0fc4e)\">\n     <use style=\"fill:#a6cee3;stroke:#a6cee3;\" x=\"230.10387\" xlink:href=\"#C0_0_e9b71c1ca6\" y=\"214.756364\"/>\n    </g>\n    <g clip-path=\"url(#p3e0bc0fc4e)\">\n     <use style=\"fill:#a6cee3;stroke:#a6cee3;\" x=\"251.094465\" xlink:href=\"#C0_0_e9b71c1ca6\" y=\"214.756364\"/>\n    </g>\n    <g clip-path=\"url(#p3e0bc0fc4e)\">\n     <use style=\"fill:#a6cee3;stroke:#a6cee3;\" x=\"146.141487\" xlink:href=\"#C0_0_e9b71c1ca6\" y=\"214.756364\"/>\n    </g>\n    <g clip-path=\"url(#p3e0bc0fc4e)\">\n     <use style=\"fill:#a6cee3;stroke:#a6cee3;\" x=\"240.599167\" xlink:href=\"#C0_0_e9b71c1ca6\" y=\"182.946959\"/>\n    </g>\n    <g clip-path=\"url(#p3e0bc0fc4e)\">\n     <use style=\"fill:#a6cee3;stroke:#a6cee3;\" x=\"188.122678\" xlink:href=\"#C0_0_e9b71c1ca6\" y=\"180.674859\"/>\n    </g>\n    <g clip-path=\"url(#p3e0bc0fc4e)\">\n     <use style=\"fill:#b15928;stroke:#b15928;\" x=\"98.912647\" xlink:href=\"#C0_0_e9b71c1ca6\" y=\"214.756364\"/>\n    </g>\n    <g clip-path=\"url(#p3e0bc0fc4e)\">\n     <use style=\"fill:#a6cee3;stroke:#a6cee3;\" x=\"161.884434\" xlink:href=\"#C0_0_e9b71c1ca6\" y=\"214.756364\"/>\n    </g>\n    <g clip-path=\"url(#p3e0bc0fc4e)\">\n     <use style=\"fill:#b15928;stroke:#b15928;\" x=\"240.599167\" xlink:href=\"#C0_0_e9b71c1ca6\" y=\"155.681755\"/>\n    </g>\n    <g clip-path=\"url(#p3e0bc0fc4e)\">\n     <use style=\"fill:#a6cee3;stroke:#a6cee3;\" x=\"151.389136\" xlink:href=\"#C0_0_e9b71c1ca6\" y=\"214.756364\"/>\n    </g>\n    <g clip-path=\"url(#p3e0bc0fc4e)\">\n     <use style=\"fill:#a6cee3;stroke:#a6cee3;\" x=\"98.912647\" xlink:href=\"#C0_0_e9b71c1ca6\" y=\"214.756364\"/>\n    </g>\n    <g clip-path=\"url(#p3e0bc0fc4e)\">\n     <use style=\"fill:#a6cee3;stroke:#a6cee3;\" x=\"230.10387\" xlink:href=\"#C0_0_e9b71c1ca6\" y=\"212.484263\"/>\n    </g>\n    <g clip-path=\"url(#p3e0bc0fc4e)\">\n     <use style=\"fill:#a6cee3;stroke:#a6cee3;\" x=\"256.342114\" xlink:href=\"#C0_0_e9b71c1ca6\" y=\"214.756364\"/>\n    </g>\n    <g clip-path=\"url(#p3e0bc0fc4e)\">\n     <use style=\"fill:#a6cee3;stroke:#a6cee3;\" x=\"125.150891\" xlink:href=\"#C0_0_e9b71c1ca6\" y=\"214.756364\"/>\n    </g>\n    <g clip-path=\"url(#p3e0bc0fc4e)\">\n     <use style=\"fill:#a6cee3;stroke:#a6cee3;\" x=\"235.351518\" xlink:href=\"#C0_0_e9b71c1ca6\" y=\"214.756364\"/>\n    </g>\n    <g clip-path=\"url(#p3e0bc0fc4e)\">\n     <use style=\"fill:#a6cee3;stroke:#a6cee3;\" x=\"214.360923\" xlink:href=\"#C0_0_e9b71c1ca6\" y=\"214.756364\"/>\n    </g>\n    <g clip-path=\"url(#p3e0bc0fc4e)\">\n     <use style=\"fill:#a6cee3;stroke:#a6cee3;\" x=\"214.360923\" xlink:href=\"#C0_0_e9b71c1ca6\" y=\"17.083636\"/>\n    </g>\n    <g clip-path=\"url(#p3e0bc0fc4e)\">\n     <use style=\"fill:#a6cee3;stroke:#a6cee3;\" x=\"324.56155\" xlink:href=\"#C0_0_e9b71c1ca6\" y=\"160.225956\"/>\n    </g>\n    <g clip-path=\"url(#p3e0bc0fc4e)\">\n     <use style=\"fill:#a6cee3;stroke:#a6cee3;\" x=\"114.655594\" xlink:href=\"#C0_0_e9b71c1ca6\" y=\"207.940063\"/>\n    </g>\n    <g clip-path=\"url(#p3e0bc0fc4e)\">\n     <use style=\"fill:#b15928;stroke:#b15928;\" x=\"324.56155\" xlink:href=\"#C0_0_e9b71c1ca6\" y=\"128.416552\"/>\n    </g>\n    <g clip-path=\"url(#p3e0bc0fc4e)\">\n     <use style=\"fill:#a6cee3;stroke:#a6cee3;\" x=\"167.132083\" xlink:href=\"#C0_0_e9b71c1ca6\" y=\"212.484263\"/>\n    </g>\n    <g clip-path=\"url(#p3e0bc0fc4e)\">\n     <use style=\"fill:#a6cee3;stroke:#a6cee3;\" x=\"240.599167\" xlink:href=\"#C0_0_e9b71c1ca6\" y=\"189.76326\"/>\n    </g>\n    <g clip-path=\"url(#p3e0bc0fc4e)\">\n     <use style=\"fill:#a6cee3;stroke:#a6cee3;\" x=\"151.389136\" xlink:href=\"#C0_0_e9b71c1ca6\" y=\"214.756364\"/>\n    </g>\n    <g clip-path=\"url(#p3e0bc0fc4e)\">\n     <use style=\"fill:#a6cee3;stroke:#a6cee3;\" x=\"282.580359\" xlink:href=\"#C0_0_e9b71c1ca6\" y=\"214.756364\"/>\n    </g>\n    <g clip-path=\"url(#p3e0bc0fc4e)\">\n     <use style=\"fill:#a6cee3;stroke:#a6cee3;\" x=\"219.608572\" xlink:href=\"#C0_0_e9b71c1ca6\" y=\"214.756364\"/>\n    </g>\n    <g clip-path=\"url(#p3e0bc0fc4e)\">\n     <use style=\"fill:#a6cee3;stroke:#a6cee3;\" x=\"77.922051\" xlink:href=\"#C0_0_e9b71c1ca6\" y=\"214.756364\"/>\n    </g>\n    <g clip-path=\"url(#p3e0bc0fc4e)\">\n     <use style=\"fill:#b15928;stroke:#b15928;\" x=\"135.646189\" xlink:href=\"#C0_0_e9b71c1ca6\" y=\"214.756364\"/>\n    </g>\n    <g clip-path=\"url(#p3e0bc0fc4e)\">\n     <use style=\"fill:#a6cee3;stroke:#a6cee3;\" x=\"193.370327\" xlink:href=\"#C0_0_e9b71c1ca6\" y=\"214.756364\"/>\n    </g>\n    <g clip-path=\"url(#p3e0bc0fc4e)\">\n     <use style=\"fill:#b15928;stroke:#b15928;\" x=\"161.884434\" xlink:href=\"#C0_0_e9b71c1ca6\" y=\"214.756364\"/>\n    </g>\n    <g clip-path=\"url(#p3e0bc0fc4e)\">\n     <use style=\"fill:#a6cee3;stroke:#a6cee3;\" x=\"151.389136\" xlink:href=\"#C0_0_e9b71c1ca6\" y=\"214.756364\"/>\n    </g>\n    <g clip-path=\"url(#p3e0bc0fc4e)\">\n     <use style=\"fill:#a6cee3;stroke:#a6cee3;\" x=\"266.837412\" xlink:href=\"#C0_0_e9b71c1ca6\" y=\"212.484263\"/>\n    </g>\n    <g clip-path=\"url(#p3e0bc0fc4e)\">\n     <use style=\"fill:#a6cee3;stroke:#a6cee3;\" x=\"350.799794\" xlink:href=\"#C0_0_e9b71c1ca6\" y=\"214.756364\"/>\n    </g>\n    <g clip-path=\"url(#p3e0bc0fc4e)\">\n     <use style=\"fill:#b15928;stroke:#b15928;\" x=\"251.094465\" xlink:href=\"#C0_0_e9b71c1ca6\" y=\"214.756364\"/>\n    </g>\n    <g clip-path=\"url(#p3e0bc0fc4e)\">\n     <use style=\"fill:#a6cee3;stroke:#a6cee3;\" x=\"62.179105\" xlink:href=\"#C0_0_e9b71c1ca6\" y=\"214.756364\"/>\n    </g>\n    <g clip-path=\"url(#p3e0bc0fc4e)\">\n     <use style=\"fill:#b15928;stroke:#b15928;\" x=\"340.304496\" xlink:href=\"#C0_0_e9b71c1ca6\" y=\"207.940063\"/>\n    </g>\n    <g clip-path=\"url(#p3e0bc0fc4e)\">\n     <use style=\"fill:#a6cee3;stroke:#a6cee3;\" x=\"135.646189\" xlink:href=\"#C0_0_e9b71c1ca6\" y=\"214.756364\"/>\n    </g>\n    <g clip-path=\"url(#p3e0bc0fc4e)\">\n     <use style=\"fill:#a6cee3;stroke:#a6cee3;\" x=\"146.141487\" xlink:href=\"#C0_0_e9b71c1ca6\" y=\"214.756364\"/>\n    </g>\n    <g clip-path=\"url(#p3e0bc0fc4e)\">\n     <use style=\"fill:#b15928;stroke:#b15928;\" x=\"277.33271\" xlink:href=\"#C0_0_e9b71c1ca6\" y=\"192.035361\"/>\n    </g>\n    <g clip-path=\"url(#p3e0bc0fc4e)\">\n     <use style=\"fill:#a6cee3;stroke:#a6cee3;\" x=\"51.683807\" xlink:href=\"#C0_0_e9b71c1ca6\" y=\"214.756364\"/>\n    </g>\n    <g clip-path=\"url(#p3e0bc0fc4e)\">\n     <use style=\"fill:#a6cee3;stroke:#a6cee3;\" x=\"308.818603\" xlink:href=\"#C0_0_e9b71c1ca6\" y=\"201.123762\"/>\n    </g>\n    <g clip-path=\"url(#p3e0bc0fc4e)\">\n     <use style=\"fill:#b15928;stroke:#b15928;\" x=\"240.599167\" xlink:href=\"#C0_0_e9b71c1ca6\" y=\"210.212163\"/>\n    </g>\n    <g clip-path=\"url(#p3e0bc0fc4e)\">\n     <use style=\"fill:#a6cee3;stroke:#a6cee3;\" x=\"98.912647\" xlink:href=\"#C0_0_e9b71c1ca6\" y=\"214.756364\"/>\n    </g>\n    <g clip-path=\"url(#p3e0bc0fc4e)\">\n     <use style=\"fill:#b15928;stroke:#b15928;\" x=\"146.141487\" xlink:href=\"#C0_0_e9b71c1ca6\" y=\"214.756364\"/>\n    </g>\n    <g clip-path=\"url(#p3e0bc0fc4e)\">\n     <use style=\"fill:#a6cee3;stroke:#a6cee3;\" x=\"62.179105\" xlink:href=\"#C0_0_e9b71c1ca6\" y=\"214.756364\"/>\n    </g>\n    <g clip-path=\"url(#p3e0bc0fc4e)\">\n     <use style=\"fill:#a6cee3;stroke:#a6cee3;\" x=\"356.047443\" xlink:href=\"#C0_0_e9b71c1ca6\" y=\"76.158245\"/>\n    </g>\n    <g clip-path=\"url(#p3e0bc0fc4e)\">\n     <use style=\"fill:#a6cee3;stroke:#a6cee3;\" x=\"293.075656\" xlink:href=\"#C0_0_e9b71c1ca6\" y=\"214.756364\"/>\n    </g>\n    <g clip-path=\"url(#p3e0bc0fc4e)\">\n     <use style=\"fill:#a6cee3;stroke:#a6cee3;\" x=\"130.39854\" xlink:href=\"#C0_0_e9b71c1ca6\" y=\"214.756364\"/>\n    </g>\n    <g clip-path=\"url(#p3e0bc0fc4e)\">\n     <use style=\"fill:#a6cee3;stroke:#a6cee3;\" x=\"203.865625\" xlink:href=\"#C0_0_e9b71c1ca6\" y=\"207.940063\"/>\n    </g>\n    <g clip-path=\"url(#p3e0bc0fc4e)\">\n     <use style=\"fill:#a6cee3;stroke:#a6cee3;\" x=\"130.39854\" xlink:href=\"#C0_0_e9b71c1ca6\" y=\"214.756364\"/>\n    </g>\n    <g clip-path=\"url(#p3e0bc0fc4e)\">\n     <use style=\"fill:#a6cee3;stroke:#a6cee3;\" x=\"88.417349\" xlink:href=\"#C0_0_e9b71c1ca6\" y=\"212.484263\"/>\n    </g>\n    <g clip-path=\"url(#p3e0bc0fc4e)\">\n     <use style=\"fill:#a6cee3;stroke:#a6cee3;\" x=\"266.837412\" xlink:href=\"#C0_0_e9b71c1ca6\" y=\"214.756364\"/>\n    </g>\n    <g clip-path=\"url(#p3e0bc0fc4e)\">\n     <use style=\"fill:#a6cee3;stroke:#a6cee3;\" x=\"193.370327\" xlink:href=\"#C0_0_e9b71c1ca6\" y=\"214.756364\"/>\n    </g>\n    <g clip-path=\"url(#p3e0bc0fc4e)\">\n     <use style=\"fill:#a6cee3;stroke:#a6cee3;\" x=\"167.132083\" xlink:href=\"#C0_0_e9b71c1ca6\" y=\"192.035361\"/>\n    </g>\n    <g clip-path=\"url(#p3e0bc0fc4e)\">\n     <use style=\"fill:#b15928;stroke:#b15928;\" x=\"329.809199\" xlink:href=\"#C0_0_e9b71c1ca6\" y=\"214.756364\"/>\n    </g>\n    <g clip-path=\"url(#p3e0bc0fc4e)\">\n     <use style=\"fill:#a6cee3;stroke:#a6cee3;\" x=\"261.589763\" xlink:href=\"#C0_0_e9b71c1ca6\" y=\"205.667962\"/>\n    </g>\n    <g clip-path=\"url(#p3e0bc0fc4e)\">\n     <use style=\"fill:#a6cee3;stroke:#a6cee3;\" x=\"156.636785\" xlink:href=\"#C0_0_e9b71c1ca6\" y=\"214.756364\"/>\n    </g>\n    <g clip-path=\"url(#p3e0bc0fc4e)\">\n     <use style=\"fill:#a6cee3;stroke:#a6cee3;\" x=\"214.360923\" xlink:href=\"#C0_0_e9b71c1ca6\" y=\"214.756364\"/>\n    </g>\n    <g clip-path=\"url(#p3e0bc0fc4e)\">\n     <use style=\"fill:#b15928;stroke:#b15928;\" x=\"209.113274\" xlink:href=\"#C0_0_e9b71c1ca6\" y=\"103.423448\"/>\n    </g>\n    <g clip-path=\"url(#p3e0bc0fc4e)\">\n     <use style=\"fill:#a6cee3;stroke:#a6cee3;\" x=\"298.323305\" xlink:href=\"#C0_0_e9b71c1ca6\" y=\"132.960752\"/>\n    </g>\n    <g clip-path=\"url(#p3e0bc0fc4e)\">\n     <use style=\"fill:#a6cee3;stroke:#a6cee3;\" x=\"177.62738\" xlink:href=\"#C0_0_e9b71c1ca6\" y=\"212.484263\"/>\n    </g>\n   </g>\n   <g id=\"PathCollection_2\">\n    <defs>\n     <path d=\"M 0 5 \nC 1.326016 5 2.597899 4.473168 3.535534 3.535534 \nC 4.473168 2.597899 5 1.326016 5 0 \nC 5 -1.326016 4.473168 -2.597899 3.535534 -3.535534 \nC 2.597899 -4.473168 1.326016 -5 0 -5 \nC -1.326016 -5 -2.597899 -4.473168 -3.535534 -3.535534 \nC -4.473168 -2.597899 -5 -1.326016 -5 0 \nC -5 1.326016 -4.473168 2.597899 -3.535534 3.535534 \nC -2.597899 4.473168 -1.326016 5 0 5 \nz\n\" id=\"C1_0_d24cf3aca9\"/>\n    </defs>\n    <g clip-path=\"url(#p3e0bc0fc4e)\">\n     <use style=\"fill:none;stroke:#000000;\" x=\"188.122678\" xlink:href=\"#C1_0_d24cf3aca9\" y=\"180.674859\"/>\n    </g>\n    <g clip-path=\"url(#p3e0bc0fc4e)\">\n     <use style=\"fill:none;stroke:#000000;\" x=\"230.10387\" xlink:href=\"#C1_0_d24cf3aca9\" y=\"212.484263\"/>\n    </g>\n    <g clip-path=\"url(#p3e0bc0fc4e)\">\n     <use style=\"fill:none;stroke:#000000;\" x=\"214.360923\" xlink:href=\"#C1_0_d24cf3aca9\" y=\"17.083636\"/>\n    </g>\n    <g clip-path=\"url(#p3e0bc0fc4e)\">\n     <use style=\"fill:none;stroke:#000000;\" x=\"324.56155\" xlink:href=\"#C1_0_d24cf3aca9\" y=\"160.225956\"/>\n    </g>\n    <g clip-path=\"url(#p3e0bc0fc4e)\">\n     <use style=\"fill:none;stroke:#000000;\" x=\"114.655594\" xlink:href=\"#C1_0_d24cf3aca9\" y=\"207.940063\"/>\n    </g>\n    <g clip-path=\"url(#p3e0bc0fc4e)\">\n     <use style=\"fill:none;stroke:#000000;\" x=\"167.132083\" xlink:href=\"#C1_0_d24cf3aca9\" y=\"212.484263\"/>\n    </g>\n    <g clip-path=\"url(#p3e0bc0fc4e)\">\n     <use style=\"fill:none;stroke:#000000;\" x=\"282.580359\" xlink:href=\"#C1_0_d24cf3aca9\" y=\"214.756364\"/>\n    </g>\n    <g clip-path=\"url(#p3e0bc0fc4e)\">\n     <use style=\"fill:none;stroke:#000000;\" x=\"350.799794\" xlink:href=\"#C1_0_d24cf3aca9\" y=\"214.756364\"/>\n    </g>\n    <g clip-path=\"url(#p3e0bc0fc4e)\">\n     <use style=\"fill:none;stroke:#000000;\" x=\"308.818603\" xlink:href=\"#C1_0_d24cf3aca9\" y=\"201.123762\"/>\n    </g>\n    <g clip-path=\"url(#p3e0bc0fc4e)\">\n     <use style=\"fill:none;stroke:#000000;\" x=\"293.075656\" xlink:href=\"#C1_0_d24cf3aca9\" y=\"214.756364\"/>\n    </g>\n    <g clip-path=\"url(#p3e0bc0fc4e)\">\n     <use style=\"fill:none;stroke:#000000;\" x=\"203.865625\" xlink:href=\"#C1_0_d24cf3aca9\" y=\"207.940063\"/>\n    </g>\n    <g clip-path=\"url(#p3e0bc0fc4e)\">\n     <use style=\"fill:none;stroke:#000000;\" x=\"88.417349\" xlink:href=\"#C1_0_d24cf3aca9\" y=\"212.484263\"/>\n    </g>\n    <g clip-path=\"url(#p3e0bc0fc4e)\">\n     <use style=\"fill:none;stroke:#000000;\" x=\"261.589763\" xlink:href=\"#C1_0_d24cf3aca9\" y=\"205.667962\"/>\n    </g>\n    <g clip-path=\"url(#p3e0bc0fc4e)\">\n     <use style=\"fill:none;stroke:#000000;\" x=\"98.912647\" xlink:href=\"#C1_0_d24cf3aca9\" y=\"214.756364\"/>\n    </g>\n    <g clip-path=\"url(#p3e0bc0fc4e)\">\n     <use style=\"fill:none;stroke:#000000;\" x=\"240.599167\" xlink:href=\"#C1_0_d24cf3aca9\" y=\"155.681755\"/>\n    </g>\n    <g clip-path=\"url(#p3e0bc0fc4e)\">\n     <use style=\"fill:none;stroke:#000000;\" x=\"324.56155\" xlink:href=\"#C1_0_d24cf3aca9\" y=\"128.416552\"/>\n    </g>\n    <g clip-path=\"url(#p3e0bc0fc4e)\">\n     <use style=\"fill:none;stroke:#000000;\" x=\"135.646189\" xlink:href=\"#C1_0_d24cf3aca9\" y=\"214.756364\"/>\n    </g>\n    <g clip-path=\"url(#p3e0bc0fc4e)\">\n     <use style=\"fill:none;stroke:#000000;\" x=\"161.884434\" xlink:href=\"#C1_0_d24cf3aca9\" y=\"214.756364\"/>\n    </g>\n    <g clip-path=\"url(#p3e0bc0fc4e)\">\n     <use style=\"fill:none;stroke:#000000;\" x=\"251.094465\" xlink:href=\"#C1_0_d24cf3aca9\" y=\"214.756364\"/>\n    </g>\n    <g clip-path=\"url(#p3e0bc0fc4e)\">\n     <use style=\"fill:none;stroke:#000000;\" x=\"340.304496\" xlink:href=\"#C1_0_d24cf3aca9\" y=\"207.940063\"/>\n    </g>\n    <g clip-path=\"url(#p3e0bc0fc4e)\">\n     <use style=\"fill:none;stroke:#000000;\" x=\"277.33271\" xlink:href=\"#C1_0_d24cf3aca9\" y=\"192.035361\"/>\n    </g>\n    <g clip-path=\"url(#p3e0bc0fc4e)\">\n     <use style=\"fill:none;stroke:#000000;\" x=\"240.599167\" xlink:href=\"#C1_0_d24cf3aca9\" y=\"210.212163\"/>\n    </g>\n    <g clip-path=\"url(#p3e0bc0fc4e)\">\n     <use style=\"fill:none;stroke:#000000;\" x=\"146.141487\" xlink:href=\"#C1_0_d24cf3aca9\" y=\"214.756364\"/>\n    </g>\n    <g clip-path=\"url(#p3e0bc0fc4e)\">\n     <use style=\"fill:none;stroke:#000000;\" x=\"329.809199\" xlink:href=\"#C1_0_d24cf3aca9\" y=\"214.756364\"/>\n    </g>\n    <g clip-path=\"url(#p3e0bc0fc4e)\">\n     <use style=\"fill:none;stroke:#000000;\" x=\"209.113274\" xlink:href=\"#C1_0_d24cf3aca9\" y=\"103.423448\"/>\n    </g>\n   </g>\n   <g id=\"matplotlib.axis_1\">\n    <g id=\"xtick_1\">\n     <g id=\"line2d_1\">\n      <defs>\n       <path d=\"M 0 0 \nL 0 3.5 \n\" id=\"ma72678d550\" style=\"stroke:#000000;stroke-width:0.8;\"/>\n      </defs>\n      <g>\n       <use style=\"stroke:#000000;stroke-width:0.8;\" x=\"88.417349\" xlink:href=\"#ma72678d550\" y=\"224.64\"/>\n      </g>\n     </g>\n     <g id=\"text_1\">\n      <!-- 20 -->\n      <defs>\n       <path d=\"M 19.1875 8.296875 \nL 53.609375 8.296875 \nL 53.609375 0 \nL 7.328125 0 \nL 7.328125 8.296875 \nQ 12.9375 14.109375 22.625 23.890625 \nQ 32.328125 33.6875 34.8125 36.53125 \nQ 39.546875 41.84375 41.421875 45.53125 \nQ 43.3125 49.21875 43.3125 52.78125 \nQ 43.3125 58.59375 39.234375 62.25 \nQ 35.15625 65.921875 28.609375 65.921875 \nQ 23.96875 65.921875 18.8125 64.3125 \nQ 13.671875 62.703125 7.8125 59.421875 \nL 7.8125 69.390625 \nQ 13.765625 71.78125 18.9375 73 \nQ 24.125 74.21875 28.421875 74.21875 \nQ 39.75 74.21875 46.484375 68.546875 \nQ 53.21875 62.890625 53.21875 53.421875 \nQ 53.21875 48.921875 51.53125 44.890625 \nQ 49.859375 40.875 45.40625 35.40625 \nQ 44.1875 33.984375 37.640625 27.21875 \nQ 31.109375 20.453125 19.1875 8.296875 \nz\n\" id=\"DejaVuSans-50\"/>\n       <path d=\"M 31.78125 66.40625 \nQ 24.171875 66.40625 20.328125 58.90625 \nQ 16.5 51.421875 16.5 36.375 \nQ 16.5 21.390625 20.328125 13.890625 \nQ 24.171875 6.390625 31.78125 6.390625 \nQ 39.453125 6.390625 43.28125 13.890625 \nQ 47.125 21.390625 47.125 36.375 \nQ 47.125 51.421875 43.28125 58.90625 \nQ 39.453125 66.40625 31.78125 66.40625 \nz\nM 31.78125 74.21875 \nQ 44.046875 74.21875 50.515625 64.515625 \nQ 56.984375 54.828125 56.984375 36.375 \nQ 56.984375 17.96875 50.515625 8.265625 \nQ 44.046875 -1.421875 31.78125 -1.421875 \nQ 19.53125 -1.421875 13.0625 8.265625 \nQ 6.59375 17.96875 6.59375 36.375 \nQ 6.59375 54.828125 13.0625 64.515625 \nQ 19.53125 74.21875 31.78125 74.21875 \nz\n\" id=\"DejaVuSans-48\"/>\n      </defs>\n      <g transform=\"translate(82.054849 239.238437)scale(0.1 -0.1)\">\n       <use xlink:href=\"#DejaVuSans-50\"/>\n       <use x=\"63.623047\" xlink:href=\"#DejaVuSans-48\"/>\n      </g>\n     </g>\n    </g>\n    <g id=\"xtick_2\">\n     <g id=\"line2d_2\">\n      <g>\n       <use style=\"stroke:#000000;stroke-width:0.8;\" x=\"140.893838\" xlink:href=\"#ma72678d550\" y=\"224.64\"/>\n      </g>\n     </g>\n     <g id=\"text_2\">\n      <!-- 30 -->\n      <defs>\n       <path d=\"M 40.578125 39.3125 \nQ 47.65625 37.796875 51.625 33 \nQ 55.609375 28.21875 55.609375 21.1875 \nQ 55.609375 10.40625 48.1875 4.484375 \nQ 40.765625 -1.421875 27.09375 -1.421875 \nQ 22.515625 -1.421875 17.65625 -0.515625 \nQ 12.796875 0.390625 7.625 2.203125 \nL 7.625 11.71875 \nQ 11.71875 9.328125 16.59375 8.109375 \nQ 21.484375 6.890625 26.8125 6.890625 \nQ 36.078125 6.890625 40.9375 10.546875 \nQ 45.796875 14.203125 45.796875 21.1875 \nQ 45.796875 27.640625 41.28125 31.265625 \nQ 36.765625 34.90625 28.71875 34.90625 \nL 20.21875 34.90625 \nL 20.21875 43.015625 \nL 29.109375 43.015625 \nQ 36.375 43.015625 40.234375 45.921875 \nQ 44.09375 48.828125 44.09375 54.296875 \nQ 44.09375 59.90625 40.109375 62.90625 \nQ 36.140625 65.921875 28.71875 65.921875 \nQ 24.65625 65.921875 20.015625 65.03125 \nQ 15.375 64.15625 9.8125 62.3125 \nL 9.8125 71.09375 \nQ 15.4375 72.65625 20.34375 73.4375 \nQ 25.25 74.21875 29.59375 74.21875 \nQ 40.828125 74.21875 47.359375 69.109375 \nQ 53.90625 64.015625 53.90625 55.328125 \nQ 53.90625 49.265625 50.4375 45.09375 \nQ 46.96875 40.921875 40.578125 39.3125 \nz\n\" id=\"DejaVuSans-51\"/>\n      </defs>\n      <g transform=\"translate(134.531338 239.238437)scale(0.1 -0.1)\">\n       <use xlink:href=\"#DejaVuSans-51\"/>\n       <use x=\"63.623047\" xlink:href=\"#DejaVuSans-48\"/>\n      </g>\n     </g>\n    </g>\n    <g id=\"xtick_3\">\n     <g id=\"line2d_3\">\n      <g>\n       <use style=\"stroke:#000000;stroke-width:0.8;\" x=\"193.370327\" xlink:href=\"#ma72678d550\" y=\"224.64\"/>\n      </g>\n     </g>\n     <g id=\"text_3\">\n      <!-- 40 -->\n      <defs>\n       <path d=\"M 37.796875 64.3125 \nL 12.890625 25.390625 \nL 37.796875 25.390625 \nz\nM 35.203125 72.90625 \nL 47.609375 72.90625 \nL 47.609375 25.390625 \nL 58.015625 25.390625 \nL 58.015625 17.1875 \nL 47.609375 17.1875 \nL 47.609375 0 \nL 37.796875 0 \nL 37.796875 17.1875 \nL 4.890625 17.1875 \nL 4.890625 26.703125 \nz\n\" id=\"DejaVuSans-52\"/>\n      </defs>\n      <g transform=\"translate(187.007827 239.238437)scale(0.1 -0.1)\">\n       <use xlink:href=\"#DejaVuSans-52\"/>\n       <use x=\"63.623047\" xlink:href=\"#DejaVuSans-48\"/>\n      </g>\n     </g>\n    </g>\n    <g id=\"xtick_4\">\n     <g id=\"line2d_4\">\n      <g>\n       <use style=\"stroke:#000000;stroke-width:0.8;\" x=\"245.846816\" xlink:href=\"#ma72678d550\" y=\"224.64\"/>\n      </g>\n     </g>\n     <g id=\"text_4\">\n      <!-- 50 -->\n      <defs>\n       <path d=\"M 10.796875 72.90625 \nL 49.515625 72.90625 \nL 49.515625 64.59375 \nL 19.828125 64.59375 \nL 19.828125 46.734375 \nQ 21.96875 47.46875 24.109375 47.828125 \nQ 26.265625 48.1875 28.421875 48.1875 \nQ 40.625 48.1875 47.75 41.5 \nQ 54.890625 34.8125 54.890625 23.390625 \nQ 54.890625 11.625 47.5625 5.09375 \nQ 40.234375 -1.421875 26.90625 -1.421875 \nQ 22.3125 -1.421875 17.546875 -0.640625 \nQ 12.796875 0.140625 7.71875 1.703125 \nL 7.71875 11.625 \nQ 12.109375 9.234375 16.796875 8.0625 \nQ 21.484375 6.890625 26.703125 6.890625 \nQ 35.15625 6.890625 40.078125 11.328125 \nQ 45.015625 15.765625 45.015625 23.390625 \nQ 45.015625 31 40.078125 35.4375 \nQ 35.15625 39.890625 26.703125 39.890625 \nQ 22.75 39.890625 18.8125 39.015625 \nQ 14.890625 38.140625 10.796875 36.28125 \nz\n\" id=\"DejaVuSans-53\"/>\n      </defs>\n      <g transform=\"translate(239.484316 239.238437)scale(0.1 -0.1)\">\n       <use xlink:href=\"#DejaVuSans-53\"/>\n       <use x=\"63.623047\" xlink:href=\"#DejaVuSans-48\"/>\n      </g>\n     </g>\n    </g>\n    <g id=\"xtick_5\">\n     <g id=\"line2d_5\">\n      <g>\n       <use style=\"stroke:#000000;stroke-width:0.8;\" x=\"298.323305\" xlink:href=\"#ma72678d550\" y=\"224.64\"/>\n      </g>\n     </g>\n     <g id=\"text_5\">\n      <!-- 60 -->\n      <defs>\n       <path d=\"M 33.015625 40.375 \nQ 26.375 40.375 22.484375 35.828125 \nQ 18.609375 31.296875 18.609375 23.390625 \nQ 18.609375 15.53125 22.484375 10.953125 \nQ 26.375 6.390625 33.015625 6.390625 \nQ 39.65625 6.390625 43.53125 10.953125 \nQ 47.40625 15.53125 47.40625 23.390625 \nQ 47.40625 31.296875 43.53125 35.828125 \nQ 39.65625 40.375 33.015625 40.375 \nz\nM 52.59375 71.296875 \nL 52.59375 62.3125 \nQ 48.875 64.0625 45.09375 64.984375 \nQ 41.3125 65.921875 37.59375 65.921875 \nQ 27.828125 65.921875 22.671875 59.328125 \nQ 17.53125 52.734375 16.796875 39.40625 \nQ 19.671875 43.65625 24.015625 45.921875 \nQ 28.375 48.1875 33.59375 48.1875 \nQ 44.578125 48.1875 50.953125 41.515625 \nQ 57.328125 34.859375 57.328125 23.390625 \nQ 57.328125 12.15625 50.6875 5.359375 \nQ 44.046875 -1.421875 33.015625 -1.421875 \nQ 20.359375 -1.421875 13.671875 8.265625 \nQ 6.984375 17.96875 6.984375 36.375 \nQ 6.984375 53.65625 15.1875 63.9375 \nQ 23.390625 74.21875 37.203125 74.21875 \nQ 40.921875 74.21875 44.703125 73.484375 \nQ 48.484375 72.75 52.59375 71.296875 \nz\n\" id=\"DejaVuSans-54\"/>\n      </defs>\n      <g transform=\"translate(291.960805 239.238437)scale(0.1 -0.1)\">\n       <use xlink:href=\"#DejaVuSans-54\"/>\n       <use x=\"63.623047\" xlink:href=\"#DejaVuSans-48\"/>\n      </g>\n     </g>\n    </g>\n    <g id=\"xtick_6\">\n     <g id=\"line2d_6\">\n      <g>\n       <use style=\"stroke:#000000;stroke-width:0.8;\" x=\"350.799794\" xlink:href=\"#ma72678d550\" y=\"224.64\"/>\n      </g>\n     </g>\n     <g id=\"text_6\">\n      <!-- 70 -->\n      <defs>\n       <path d=\"M 8.203125 72.90625 \nL 55.078125 72.90625 \nL 55.078125 68.703125 \nL 28.609375 0 \nL 18.3125 0 \nL 43.21875 64.59375 \nL 8.203125 64.59375 \nz\n\" id=\"DejaVuSans-55\"/>\n      </defs>\n      <g transform=\"translate(344.437294 239.238437)scale(0.1 -0.1)\">\n       <use xlink:href=\"#DejaVuSans-55\"/>\n       <use x=\"63.623047\" xlink:href=\"#DejaVuSans-48\"/>\n      </g>\n     </g>\n    </g>\n   </g>\n   <g id=\"matplotlib.axis_2\">\n    <g id=\"ytick_1\">\n     <g id=\"line2d_7\">\n      <defs>\n       <path d=\"M 0 0 \nL -3.5 0 \n\" id=\"ma0b14649d0\" style=\"stroke:#000000;stroke-width:0.8;\"/>\n      </defs>\n      <g>\n       <use style=\"stroke:#000000;stroke-width:0.8;\" x=\"36.465625\" xlink:href=\"#ma0b14649d0\" y=\"214.756364\"/>\n      </g>\n     </g>\n     <g id=\"text_7\">\n      <!-- 0.0 -->\n      <defs>\n       <path d=\"M 10.6875 12.40625 \nL 21 12.40625 \nL 21 0 \nL 10.6875 0 \nz\n\" id=\"DejaVuSans-46\"/>\n      </defs>\n      <g transform=\"translate(13.5625 218.555582)scale(0.1 -0.1)\">\n       <use xlink:href=\"#DejaVuSans-48\"/>\n       <use x=\"63.623047\" xlink:href=\"#DejaVuSans-46\"/>\n       <use x=\"95.410156\" xlink:href=\"#DejaVuSans-48\"/>\n      </g>\n     </g>\n    </g>\n    <g id=\"ytick_2\">\n     <g id=\"line2d_8\">\n      <g>\n       <use style=\"stroke:#000000;stroke-width:0.8;\" x=\"36.465625\" xlink:href=\"#ma0b14649d0\" y=\"186.35511\"/>\n      </g>\n     </g>\n     <g id=\"text_8\">\n      <!-- 2.5 -->\n      <g transform=\"translate(13.5625 190.154328)scale(0.1 -0.1)\">\n       <use xlink:href=\"#DejaVuSans-50\"/>\n       <use x=\"63.623047\" xlink:href=\"#DejaVuSans-46\"/>\n       <use x=\"95.410156\" xlink:href=\"#DejaVuSans-53\"/>\n      </g>\n     </g>\n    </g>\n    <g id=\"ytick_3\">\n     <g id=\"line2d_9\">\n      <g>\n       <use style=\"stroke:#000000;stroke-width:0.8;\" x=\"36.465625\" xlink:href=\"#ma0b14649d0\" y=\"157.953856\"/>\n      </g>\n     </g>\n     <g id=\"text_9\">\n      <!-- 5.0 -->\n      <g transform=\"translate(13.5625 161.753075)scale(0.1 -0.1)\">\n       <use xlink:href=\"#DejaVuSans-53\"/>\n       <use x=\"63.623047\" xlink:href=\"#DejaVuSans-46\"/>\n       <use x=\"95.410156\" xlink:href=\"#DejaVuSans-48\"/>\n      </g>\n     </g>\n    </g>\n    <g id=\"ytick_4\">\n     <g id=\"line2d_10\">\n      <g>\n       <use style=\"stroke:#000000;stroke-width:0.8;\" x=\"36.465625\" xlink:href=\"#ma0b14649d0\" y=\"129.552602\"/>\n      </g>\n     </g>\n     <g id=\"text_10\">\n      <!-- 7.5 -->\n      <g transform=\"translate(13.5625 133.351821)scale(0.1 -0.1)\">\n       <use xlink:href=\"#DejaVuSans-55\"/>\n       <use x=\"63.623047\" xlink:href=\"#DejaVuSans-46\"/>\n       <use x=\"95.410156\" xlink:href=\"#DejaVuSans-53\"/>\n      </g>\n     </g>\n    </g>\n    <g id=\"ytick_5\">\n     <g id=\"line2d_11\">\n      <g>\n       <use style=\"stroke:#000000;stroke-width:0.8;\" x=\"36.465625\" xlink:href=\"#ma0b14649d0\" y=\"101.151348\"/>\n      </g>\n     </g>\n     <g id=\"text_11\">\n      <!-- 10.0 -->\n      <defs>\n       <path d=\"M 12.40625 8.296875 \nL 28.515625 8.296875 \nL 28.515625 63.921875 \nL 10.984375 60.40625 \nL 10.984375 69.390625 \nL 28.421875 72.90625 \nL 38.28125 72.90625 \nL 38.28125 8.296875 \nL 54.390625 8.296875 \nL 54.390625 0 \nL 12.40625 0 \nz\n\" id=\"DejaVuSans-49\"/>\n      </defs>\n      <g transform=\"translate(7.2 104.950567)scale(0.1 -0.1)\">\n       <use xlink:href=\"#DejaVuSans-49\"/>\n       <use x=\"63.623047\" xlink:href=\"#DejaVuSans-48\"/>\n       <use x=\"127.246094\" xlink:href=\"#DejaVuSans-46\"/>\n       <use x=\"159.033203\" xlink:href=\"#DejaVuSans-48\"/>\n      </g>\n     </g>\n    </g>\n    <g id=\"ytick_6\">\n     <g id=\"line2d_12\">\n      <g>\n       <use style=\"stroke:#000000;stroke-width:0.8;\" x=\"36.465625\" xlink:href=\"#ma0b14649d0\" y=\"72.750094\"/>\n      </g>\n     </g>\n     <g id=\"text_12\">\n      <!-- 12.5 -->\n      <g transform=\"translate(7.2 76.549313)scale(0.1 -0.1)\">\n       <use xlink:href=\"#DejaVuSans-49\"/>\n       <use x=\"63.623047\" xlink:href=\"#DejaVuSans-50\"/>\n       <use x=\"127.246094\" xlink:href=\"#DejaVuSans-46\"/>\n       <use x=\"159.033203\" xlink:href=\"#DejaVuSans-53\"/>\n      </g>\n     </g>\n    </g>\n    <g id=\"ytick_7\">\n     <g id=\"line2d_13\">\n      <g>\n       <use style=\"stroke:#000000;stroke-width:0.8;\" x=\"36.465625\" xlink:href=\"#ma0b14649d0\" y=\"44.34884\"/>\n      </g>\n     </g>\n     <g id=\"text_13\">\n      <!-- 15.0 -->\n      <g transform=\"translate(7.2 48.148059)scale(0.1 -0.1)\">\n       <use xlink:href=\"#DejaVuSans-49\"/>\n       <use x=\"63.623047\" xlink:href=\"#DejaVuSans-53\"/>\n       <use x=\"127.246094\" xlink:href=\"#DejaVuSans-46\"/>\n       <use x=\"159.033203\" xlink:href=\"#DejaVuSans-48\"/>\n      </g>\n     </g>\n    </g>\n    <g id=\"ytick_8\">\n     <g id=\"line2d_14\">\n      <g>\n       <use style=\"stroke:#000000;stroke-width:0.8;\" x=\"36.465625\" xlink:href=\"#ma0b14649d0\" y=\"15.947586\"/>\n      </g>\n     </g>\n     <g id=\"text_14\">\n      <!-- 17.5 -->\n      <g transform=\"translate(7.2 19.746805)scale(0.1 -0.1)\">\n       <use xlink:href=\"#DejaVuSans-49\"/>\n       <use x=\"63.623047\" xlink:href=\"#DejaVuSans-55\"/>\n       <use x=\"127.246094\" xlink:href=\"#DejaVuSans-46\"/>\n       <use x=\"159.033203\" xlink:href=\"#DejaVuSans-53\"/>\n      </g>\n     </g>\n    </g>\n   </g>\n   <g id=\"LineCollection_1\">\n    <path clip-path=\"url(#p3e0bc0fc4e)\" d=\"M 254.647255 224.64 \nL 255.817349 224.219188 \nL 267.362177 220.067206 \nL 275.49569 217.142069 \nL 278.907004 215.915223 \nL 290.451832 211.763242 \nL 296.344125 209.644138 \nL 301.996659 207.61126 \nL 313.541487 203.459277 \nL 317.192555 202.146207 \nL 325.086315 199.307297 \nL 336.631142 195.155312 \nL 338.040987 194.648276 \nL 348.17597 191.003332 \nL 358.889433 187.150345 \nL 359.720797 186.851353 \nL 371.265625 182.699372 \n\" style=\"fill:none;stroke:#000000;stroke-dasharray:5.55,2.4;stroke-dashoffset:0;stroke-opacity:0.5;stroke-width:1.5;\"/>\n   </g>\n   <g id=\"LineCollection_2\"/>\n   <g id=\"LineCollection_3\"/>\n   <g id=\"patch_3\">\n    <path d=\"M 36.465625 224.64 \nL 36.465625 7.2 \n\" style=\"fill:none;stroke:#000000;stroke-linecap:square;stroke-linejoin:miter;stroke-width:0.8;\"/>\n   </g>\n   <g id=\"patch_4\">\n    <path d=\"M 371.265625 224.64 \nL 371.265625 7.2 \n\" style=\"fill:none;stroke:#000000;stroke-linecap:square;stroke-linejoin:miter;stroke-width:0.8;\"/>\n   </g>\n   <g id=\"patch_5\">\n    <path d=\"M 36.465625 224.64 \nL 371.265625 224.64 \n\" style=\"fill:none;stroke:#000000;stroke-linecap:square;stroke-linejoin:miter;stroke-width:0.8;\"/>\n   </g>\n   <g id=\"patch_6\">\n    <path d=\"M 36.465625 7.2 \nL 371.265625 7.2 \n\" style=\"fill:none;stroke:#000000;stroke-linecap:square;stroke-linejoin:miter;stroke-width:0.8;\"/>\n   </g>\n  </g>\n </g>\n <defs>\n  <clipPath id=\"p3e0bc0fc4e\">\n   <rect height=\"217.44\" width=\"334.8\" x=\"36.465625\" y=\"7.2\"/>\n  </clipPath>\n </defs>\n</svg>\n",
      "image/png": "[encoded data removed]"
     },
     "metadata": {
      "needs_background": "light"
     }
    }
   ],
   "source": [
    "from sklearn import svm\n",
    "from sklearn.datasets import make_blobs\n",
    "\n",
    "# https://scikit-learn.org/stable/auto_examples/svm/plot_separating_hyperplane.html\n",
    "# we create 40 separable points\n",
    "# X, y = make_blobs(n_samples=40, centers=2, random_state=6)\n",
    "X = np.asarray(x_test)\n",
    "y = np.asarray(y_test)\n",
    "#X, y = x_test, y_test\n",
    "\n",
    "# fit the model, don't regularize for illustration purposes\n",
    "clf = svm.SVC(kernel='linear', C=1000)\n",
    "clf.fit(X, y)\n",
    "\n",
    "plt.scatter(X[:, 0], X[:, 1], c=y, s=30, cmap=plt.cm.Paired)\n",
    "\n",
    "#plt.figure(figsize=(8,6))\n",
    "# plot the decision function\n",
    "ax = plt.gca()\n",
    "xlim = ax.get_xlim()\n",
    "ylim = ax.get_ylim()\n",
    "\n",
    "# create grid to evaluate model\n",
    "xx = np.linspace(xlim[0], xlim[1], 30)\n",
    "yy = np.linspace(ylim[0], ylim[1], 30)\n",
    "YY, XX = np.meshgrid(yy, xx)\n",
    "xy = np.vstack([XX.ravel(), YY.ravel()]).T\n",
    "Z = clf.decision_function(xy).reshape(XX.shape)\n",
    "\n",
    "# plot decision boundary and margins\n",
    "ax.contour(XX, YY, Z, colors='k', levels=[-1, 0, 1], alpha=0.5,\n",
    "           linestyles=['--', '-', '--'])\n",
    "# plot support vectors\n",
    "ax.scatter(clf.support_vectors_[:, 0], clf.support_vectors_[:, 1], s=100,\n",
    "           linewidth=1, facecolors='none', edgecolors='k')\n",
    "plt.show()"
   ]
  },
  {
   "cell_type": "code",
   "execution_count": null,
   "metadata": {},
   "outputs": [],
   "source": []
  },
  {
   "cell_type": "code",
   "execution_count": null,
   "metadata": {},
   "outputs": [],
   "source": []
  },
  {
   "cell_type": "code",
   "execution_count": null,
   "metadata": {},
   "outputs": [],
   "source": []
  },
  {
   "cell_type": "code",
   "execution_count": null,
   "metadata": {},
   "outputs": [],
   "source": []
  }
 ]
}