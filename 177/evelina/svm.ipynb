{
 "metadata": {
  "language_info": {
   "codemirror_mode": {
    "name": "ipython",
    "version": 3
   },
   "file_extension": ".py",
   "mimetype": "text/x-python",
   "name": "python",
   "nbconvert_exporter": "python",
   "pygments_lexer": "ipython3",
   "version": "3.8.3-final"
  },
  "orig_nbformat": 2,
  "kernelspec": {
   "name": "python3",
   "display_name": "Python 3"
  }
 },
 "nbformat": 4,
 "nbformat_minor": 2,
 "cells": [
  {
   "cell_type": "code",
   "execution_count": 18,
   "metadata": {},
   "outputs": [],
   "source": [
    "import numpy as np \n",
    "import pandas as pd \n",
    "from sklearn.model_selection import train_test_split\n",
    "from sklearn.preprocessing import LabelEncoder\n",
    "from sklearn.preprocessing import OneHotEncoder\n",
    "from matplotlib import pyplot as plt\n",
    "from sklearn.svm import SVC\n",
    "\n",
    "path = \"/Users/austinwilson/Downloads/weather.csv\"\n",
    "\n",
    "weather = pd.read_csv(path, na_values='NA')\n",
    "\n",
    "weather.dropna(inplace=True)\n"
   ]
  },
  {
   "cell_type": "code",
   "execution_count": 19,
   "metadata": {},
   "outputs": [],
   "source": [
    "def normalize(df, columns):\n",
    "    for col in columns:\n",
    "        avg = np.mean(df[col])\n",
    "        std = np.std(df[col])\n",
    "        df[col] = ( df[col] - avg ) / std"
   ]
  },
  {
   "cell_type": "code",
   "execution_count": 49,
   "metadata": {},
   "outputs": [
    {
     "output_type": "execute_result",
     "data": {
      "text/plain": [
       "   Rainfall  Sunshine RainTomorrow\n",
       "0       0.0       6.3          Yes\n",
       "1       3.6       9.7          Yes\n",
       "2       3.6       3.3          Yes\n",
       "3      39.8       9.1          Yes\n",
       "4       2.8      10.6           No"
      ],
      "text/html": "<div>\n<style scoped>\n    .dataframe tbody tr th:only-of-type {\n        vertical-align: middle;\n    }\n\n    .dataframe tbody tr th {\n        vertical-align: top;\n    }\n\n    .dataframe thead th {\n        text-align: right;\n    }\n</style>\n<table border=\"1\" class=\"dataframe\">\n  <thead>\n    <tr style=\"text-align: right;\">\n      <th></th>\n      <th>Rainfall</th>\n      <th>Sunshine</th>\n      <th>RainTomorrow</th>\n    </tr>\n  </thead>\n  <tbody>\n    <tr>\n      <th>0</th>\n      <td>0.0</td>\n      <td>6.3</td>\n      <td>Yes</td>\n    </tr>\n    <tr>\n      <th>1</th>\n      <td>3.6</td>\n      <td>9.7</td>\n      <td>Yes</td>\n    </tr>\n    <tr>\n      <th>2</th>\n      <td>3.6</td>\n      <td>3.3</td>\n      <td>Yes</td>\n    </tr>\n    <tr>\n      <th>3</th>\n      <td>39.8</td>\n      <td>9.1</td>\n      <td>Yes</td>\n    </tr>\n    <tr>\n      <th>4</th>\n      <td>2.8</td>\n      <td>10.6</td>\n      <td>No</td>\n    </tr>\n  </tbody>\n</table>\n</div>"
     },
     "metadata": {},
     "execution_count": 49
    }
   ],
   "source": [
    "#columns = ['Rainfall','Sunshine','MaxTemp','Evaporation','RISK_MM','RainTomorrow']\n",
    "\n",
    "columns = ['Rainfall','Sunshine','RainTomorrow']\n",
    "# columns = ['Humidity3pm','RISK_MM','RainTomorrow']\n",
    "\n",
    "svm_data = weather[columns]\n",
    "# svm_data = svm_data[(svm_data.Rainfall < 10)]\n",
    "# svm_data = svm_data[(svm_data.Rainfall < 10)]\n",
    "#categorical_columns = ['WindGustDir','WindDir9am', 'WindDir3pm', 'RainToday']\n",
    "#svm_data = weather.drop(categorical_columns,axis=1)\n",
    "\n",
    "svm_data.head()\n",
    "\n"
   ]
  },
  {
   "cell_type": "code",
   "execution_count": 50,
   "metadata": {},
   "outputs": [
    {
     "output_type": "execute_result",
     "data": {
      "text/plain": [
       "    Rainfall  Sunshine  RainTomorrow\n",
       "0        0.0       6.3             1\n",
       "1        3.6       9.7             1\n",
       "2        3.6       3.3             1\n",
       "3       39.8       9.1             1\n",
       "4        2.8      10.6             0\n",
       "5        0.0       8.2             0\n",
       "6        0.2       8.4             0\n",
       "7        0.0       4.6             0\n",
       "8        0.0       4.1             1\n",
       "9       16.2       7.7             0\n",
       "10       0.0      11.9             0\n",
       "11       0.2      12.5             0\n",
       "12       0.0      13.0             0\n",
       "13       0.0      12.4             0\n",
       "14       0.0      13.1             0\n",
       "15       0.0      11.1             0\n",
       "16       0.0       8.4             1\n",
       "17       1.2      10.1             0\n",
       "18       0.6      13.0             0\n",
       "19       0.0      10.4             0"
      ],
      "text/html": "<div>\n<style scoped>\n    .dataframe tbody tr th:only-of-type {\n        vertical-align: middle;\n    }\n\n    .dataframe tbody tr th {\n        vertical-align: top;\n    }\n\n    .dataframe thead th {\n        text-align: right;\n    }\n</style>\n<table border=\"1\" class=\"dataframe\">\n  <thead>\n    <tr style=\"text-align: right;\">\n      <th></th>\n      <th>Rainfall</th>\n      <th>Sunshine</th>\n      <th>RainTomorrow</th>\n    </tr>\n  </thead>\n  <tbody>\n    <tr>\n      <th>0</th>\n      <td>0.0</td>\n      <td>6.3</td>\n      <td>1</td>\n    </tr>\n    <tr>\n      <th>1</th>\n      <td>3.6</td>\n      <td>9.7</td>\n      <td>1</td>\n    </tr>\n    <tr>\n      <th>2</th>\n      <td>3.6</td>\n      <td>3.3</td>\n      <td>1</td>\n    </tr>\n    <tr>\n      <th>3</th>\n      <td>39.8</td>\n      <td>9.1</td>\n      <td>1</td>\n    </tr>\n    <tr>\n      <th>4</th>\n      <td>2.8</td>\n      <td>10.6</td>\n      <td>0</td>\n    </tr>\n    <tr>\n      <th>5</th>\n      <td>0.0</td>\n      <td>8.2</td>\n      <td>0</td>\n    </tr>\n    <tr>\n      <th>6</th>\n      <td>0.2</td>\n      <td>8.4</td>\n      <td>0</td>\n    </tr>\n    <tr>\n      <th>7</th>\n      <td>0.0</td>\n      <td>4.6</td>\n      <td>0</td>\n    </tr>\n    <tr>\n      <th>8</th>\n      <td>0.0</td>\n      <td>4.1</td>\n      <td>1</td>\n    </tr>\n    <tr>\n      <th>9</th>\n      <td>16.2</td>\n      <td>7.7</td>\n      <td>0</td>\n    </tr>\n    <tr>\n      <th>10</th>\n      <td>0.0</td>\n      <td>11.9</td>\n      <td>0</td>\n    </tr>\n    <tr>\n      <th>11</th>\n      <td>0.2</td>\n      <td>12.5</td>\n      <td>0</td>\n    </tr>\n    <tr>\n      <th>12</th>\n      <td>0.0</td>\n      <td>13.0</td>\n      <td>0</td>\n    </tr>\n    <tr>\n      <th>13</th>\n      <td>0.0</td>\n      <td>12.4</td>\n      <td>0</td>\n    </tr>\n    <tr>\n      <th>14</th>\n      <td>0.0</td>\n      <td>13.1</td>\n      <td>0</td>\n    </tr>\n    <tr>\n      <th>15</th>\n      <td>0.0</td>\n      <td>11.1</td>\n      <td>0</td>\n    </tr>\n    <tr>\n      <th>16</th>\n      <td>0.0</td>\n      <td>8.4</td>\n      <td>1</td>\n    </tr>\n    <tr>\n      <th>17</th>\n      <td>1.2</td>\n      <td>10.1</td>\n      <td>0</td>\n    </tr>\n    <tr>\n      <th>18</th>\n      <td>0.6</td>\n      <td>13.0</td>\n      <td>0</td>\n    </tr>\n    <tr>\n      <th>19</th>\n      <td>0.0</td>\n      <td>10.4</td>\n      <td>0</td>\n    </tr>\n  </tbody>\n</table>\n</div>"
     },
     "metadata": {},
     "execution_count": 50
    }
   ],
   "source": [
    "le = LabelEncoder()\n",
    "svm_data.RainTomorrow = le.fit_transform(svm_data.RainTomorrow)\n",
    "X = svm_data.drop(\"RainTomorrow\", axis=1)\n",
    "y = svm_data['RainTomorrow']\n",
    "svm_data.head(20)"
   ]
  },
  {
   "cell_type": "code",
   "execution_count": 51,
   "metadata": {},
   "outputs": [],
   "source": [
    "# normalize(svm_data, [\"Rainfall\",\"Sunshine\",\"MaxTemp\",\"Evaporation\",\"RISK_MM\"])"
   ]
  },
  {
   "cell_type": "code",
   "execution_count": 52,
   "metadata": {},
   "outputs": [],
   "source": [
    "x_train,x_test,y_train,y_test = train_test_split(X, y, test_size=.2, random_state=1)"
   ]
  },
  {
   "cell_type": "code",
   "execution_count": 53,
   "metadata": {},
   "outputs": [
    {
     "output_type": "stream",
     "name": "stdout",
     "text": [
      "(262, 2)\n(262,)\n(66, 2)\n(66,)\n(328, 3)\n"
     ]
    }
   ],
   "source": [
    "print(x_train.shape)\n",
    "print(y_train.shape)\n",
    "print(x_test.shape)\n",
    "print(y_test.shape)\n",
    "print(svm_data.shape)"
   ]
  },
  {
   "cell_type": "code",
   "execution_count": 54,
   "metadata": {},
   "outputs": [],
   "source": [
    "model = SVC(C=15.0, cache_size=200)\n",
    "clf = SVC(kernel=\"linear\",C=1000)"
   ]
  },
  {
   "cell_type": "code",
   "execution_count": 55,
   "metadata": {},
   "outputs": [
    {
     "output_type": "execute_result",
     "data": {
      "text/plain": [
       "SVC(C=1000, kernel='linear')"
      ]
     },
     "metadata": {},
     "execution_count": 55
    }
   ],
   "source": [
    "model.fit(x_train,y_train)\n",
    "clf.fit(x_train,y_train)\n"
   ]
  },
  {
   "cell_type": "code",
   "execution_count": 56,
   "metadata": {},
   "outputs": [
    {
     "output_type": "execute_result",
     "data": {
      "text/plain": [
       "0.8181818181818182"
      ]
     },
     "metadata": {},
     "execution_count": 56
    }
   ],
   "source": [
    "model.score(x_test,y_test)"
   ]
  },
  {
   "cell_type": "code",
   "execution_count": 57,
   "metadata": {},
   "outputs": [
    {
     "output_type": "execute_result",
     "data": {
      "text/plain": [
       "0.8181818181818182"
      ]
     },
     "metadata": {},
     "execution_count": 57
    }
   ],
   "source": [
    "clf.score(x_test,y_test)"
   ]
  },
  {
   "cell_type": "code",
   "execution_count": 324,
   "metadata": {},
   "outputs": [],
   "source": [
    "pred = model.predict(x_test)\n",
    "pred2 = clf.predict(x_test)"
   ]
  },
  {
   "cell_type": "code",
   "execution_count": 325,
   "metadata": {},
   "outputs": [
    {
     "output_type": "execute_result",
     "data": {
      "text/plain": [
       "array([0, 0, 0, 0, 0, 0, 0, 0, 0, 0, 0, 0, 1, 0, 1, 0, 0, 0, 0, 0, 0, 0,\n",
       "       0, 0, 0, 1, 0, 0, 0, 0, 0, 0, 1, 0, 1, 0, 0, 0, 1, 0, 1, 0, 0, 1,\n",
       "       0, 0, 1, 0, 1, 0, 0, 0, 0, 0, 0, 0, 0, 0, 0, 1, 0, 0, 0, 1, 0, 0])"
      ]
     },
     "metadata": {},
     "execution_count": 325
    }
   ],
   "source": [
    "pred2"
   ]
  },
  {
   "cell_type": "code",
   "execution_count": 326,
   "metadata": {},
   "outputs": [
    {
     "output_type": "execute_result",
     "data": {
      "text/plain": [
       "array(['No', 'No', 'No', 'No', 'No', 'No', 'No', 'No', 'No', 'No', 'No',\n",
       "       'No', 'Yes', 'No', 'Yes', 'No', 'No', 'No', 'No', 'No', 'No', 'No',\n",
       "       'No', 'No', 'No', 'Yes', 'No', 'No', 'No', 'No', 'No', 'No', 'Yes',\n",
       "       'No', 'Yes', 'No', 'No', 'No', 'Yes', 'No', 'Yes', 'No', 'No',\n",
       "       'Yes', 'No', 'No', 'Yes', 'No', 'Yes', 'No', 'No', 'No', 'No',\n",
       "       'No', 'No', 'No', 'No', 'No', 'No', 'Yes', 'No', 'No', 'No', 'Yes',\n",
       "       'No', 'No'], dtype=object)"
      ]
     },
     "metadata": {},
     "execution_count": 326
    }
   ],
   "source": [
    "le.inverse_transform(pred2)"
   ]
  },
  {
   "source": [
    "le.inverse_transform(y_test)\n"
   ],
   "cell_type": "code",
   "metadata": {},
   "execution_count": 327,
   "outputs": [
    {
     "output_type": "execute_result",
     "data": {
      "text/plain": [
       "array(['No', 'No', 'No', 'No', 'No', 'No', 'No', 'No', 'No', 'No', 'No',\n",
       "       'No', 'Yes', 'No', 'Yes', 'No', 'No', 'No', 'No', 'No', 'No', 'No',\n",
       "       'No', 'No', 'No', 'Yes', 'No', 'No', 'No', 'No', 'No', 'No', 'Yes',\n",
       "       'No', 'Yes', 'No', 'No', 'No', 'Yes', 'No', 'Yes', 'No', 'No',\n",
       "       'Yes', 'No', 'No', 'Yes', 'No', 'Yes', 'No', 'No', 'No', 'No',\n",
       "       'No', 'No', 'No', 'No', 'No', 'No', 'Yes', 'No', 'No', 'No', 'Yes',\n",
       "       'No', 'No'], dtype=object)"
      ]
     },
     "metadata": {},
     "execution_count": 327
    }
   ]
  },
  {
   "cell_type": "code",
   "execution_count": 58,
   "metadata": {},
   "outputs": [
    {
     "output_type": "display_data",
     "data": {
      "text/plain": "<Figure size 432x288 with 1 Axes>",
      "image/svg+xml": "<?xml version=\"1.0\" encoding=\"utf-8\" standalone=\"no\"?>\n<!DOCTYPE svg PUBLIC \"-//W3C//DTD SVG 1.1//EN\"\n  \"http://www.w3.org/Graphics/SVG/1.1/DTD/svg11.dtd\">\n<!-- Created with matplotlib (https://matplotlib.org/) -->\n<svg height=\"248.518125pt\" version=\"1.1\" viewBox=\"0 0 368.925 248.518125\" width=\"368.925pt\" xmlns=\"http://www.w3.org/2000/svg\" xmlns:xlink=\"http://www.w3.org/1999/xlink\">\n <defs>\n  <style type=\"text/css\">\n*{stroke-linecap:butt;stroke-linejoin:round;}\n  </style>\n </defs>\n <g id=\"figure_1\">\n  <g id=\"patch_1\">\n   <path d=\"M -0 248.518125 \nL 368.925 248.518125 \nL 368.925 0 \nL -0 0 \nz\n\" style=\"fill:none;\"/>\n  </g>\n  <g id=\"axes_1\">\n   <g id=\"patch_2\">\n    <path d=\"M 26.925 224.64 \nL 361.725 224.64 \nL 361.725 7.2 \nL 26.925 7.2 \nz\n\" style=\"fill:#ffffff;\"/>\n   </g>\n   <g id=\"PathCollection_1\">\n    <defs>\n     <path d=\"M 0 2.738613 \nC 0.726289 2.738613 1.422928 2.450055 1.936492 1.936492 \nC 2.450055 1.422928 2.738613 0.726289 2.738613 0 \nC 2.738613 -0.726289 2.450055 -1.422928 1.936492 -1.936492 \nC 1.422928 -2.450055 0.726289 -2.738613 0 -2.738613 \nC -0.726289 -2.738613 -1.422928 -2.450055 -1.936492 -1.936492 \nC -2.450055 -1.422928 -2.738613 -0.726289 -2.738613 0 \nC -2.738613 0.726289 -2.450055 1.422928 -1.936492 1.936492 \nC -1.422928 2.450055 -0.726289 2.738613 0 2.738613 \nz\n\" id=\"C0_0_06fe65212e\"/>\n    </defs>\n    <g clip-path=\"url(#p69ee4097f8)\">\n     <use style=\"fill:#a6cee3;stroke:#a6cee3;\" x=\"42.143182\" xlink:href=\"#C0_0_06fe65212e\" y=\"17.083636\"/>\n    </g>\n    <g clip-path=\"url(#p69ee4097f8)\">\n     <use style=\"fill:#a6cee3;stroke:#a6cee3;\" x=\"42.143182\" xlink:href=\"#C0_0_06fe65212e\" y=\"103.093907\"/>\n    </g>\n    <g clip-path=\"url(#p69ee4097f8)\">\n     <use style=\"fill:#a6cee3;stroke:#a6cee3;\" x=\"42.143182\" xlink:href=\"#C0_0_06fe65212e\" y=\"92.531242\"/>\n    </g>\n    <g clip-path=\"url(#p69ee4097f8)\">\n     <use style=\"fill:#a6cee3;stroke:#a6cee3;\" x=\"42.143182\" xlink:href=\"#C0_0_06fe65212e\" y=\"88.004386\"/>\n    </g>\n    <g clip-path=\"url(#p69ee4097f8)\">\n     <use style=\"fill:#a6cee3;stroke:#a6cee3;\" x=\"42.143182\" xlink:href=\"#C0_0_06fe65212e\" y=\"47.262679\"/>\n    </g>\n    <g clip-path=\"url(#p69ee4097f8)\">\n     <use style=\"fill:#a6cee3;stroke:#a6cee3;\" x=\"42.143182\" xlink:href=\"#C0_0_06fe65212e\" y=\"83.477529\"/>\n    </g>\n    <g clip-path=\"url(#p69ee4097f8)\">\n     <use style=\"fill:#a6cee3;stroke:#a6cee3;\" x=\"42.143182\" xlink:href=\"#C0_0_06fe65212e\" y=\"177.032561\"/>\n    </g>\n    <g clip-path=\"url(#p69ee4097f8)\">\n     <use style=\"fill:#a6cee3;stroke:#a6cee3;\" x=\"42.143182\" xlink:href=\"#C0_0_06fe65212e\" y=\"142.326662\"/>\n    </g>\n    <g clip-path=\"url(#p69ee4097f8)\">\n     <use style=\"fill:#a6cee3;stroke:#a6cee3;\" x=\"42.143182\" xlink:href=\"#C0_0_06fe65212e\" y=\"88.004386\"/>\n    </g>\n    <g clip-path=\"url(#p69ee4097f8)\">\n     <use style=\"fill:#a6cee3;stroke:#a6cee3;\" x=\"42.143182\" xlink:href=\"#C0_0_06fe65212e\" y=\"92.531242\"/>\n    </g>\n    <g clip-path=\"url(#p69ee4097f8)\">\n     <use style=\"fill:#a6cee3;stroke:#a6cee3;\" x=\"91.121238\" xlink:href=\"#C0_0_06fe65212e\" y=\"62.3522\"/>\n    </g>\n    <g clip-path=\"url(#p69ee4097f8)\">\n     <use style=\"fill:#a6cee3;stroke:#a6cee3;\" x=\"94.619671\" xlink:href=\"#C0_0_06fe65212e\" y=\"48.771631\"/>\n    </g>\n    <g clip-path=\"url(#p69ee4097f8)\">\n     <use style=\"fill:#b15928;stroke:#b15928;\" x=\"42.143182\" xlink:href=\"#C0_0_06fe65212e\" y=\"59.334296\"/>\n    </g>\n    <g clip-path=\"url(#p69ee4097f8)\">\n     <use style=\"fill:#a6cee3;stroke:#a6cee3;\" x=\"42.143182\" xlink:href=\"#C0_0_06fe65212e\" y=\"66.879056\"/>\n    </g>\n    <g clip-path=\"url(#p69ee4097f8)\">\n     <use style=\"fill:#b15928;stroke:#b15928;\" x=\"133.102429\" xlink:href=\"#C0_0_06fe65212e\" y=\"167.978848\"/>\n    </g>\n    <g clip-path=\"url(#p69ee4097f8)\">\n     <use style=\"fill:#a6cee3;stroke:#a6cee3;\" x=\"42.143182\" xlink:href=\"#C0_0_06fe65212e\" y=\"32.173158\"/>\n    </g>\n    <g clip-path=\"url(#p69ee4097f8)\">\n     <use style=\"fill:#a6cee3;stroke:#a6cee3;\" x=\"42.143182\" xlink:href=\"#C0_0_06fe65212e\" y=\"44.244774\"/>\n    </g>\n    <g clip-path=\"url(#p69ee4097f8)\">\n     <use style=\"fill:#a6cee3;stroke:#a6cee3;\" x=\"45.641614\" xlink:href=\"#C0_0_06fe65212e\" y=\"95.549146\"/>\n    </g>\n    <g clip-path=\"url(#p69ee4097f8)\">\n     <use style=\"fill:#a6cee3;stroke:#a6cee3;\" x=\"42.143182\" xlink:href=\"#C0_0_06fe65212e\" y=\"137.799806\"/>\n    </g>\n    <g clip-path=\"url(#p69ee4097f8)\">\n     <use style=\"fill:#a6cee3;stroke:#a6cee3;\" x=\"42.143182\" xlink:href=\"#C0_0_06fe65212e\" y=\"71.405913\"/>\n    </g>\n    <g clip-path=\"url(#p69ee4097f8)\">\n     <use style=\"fill:#a6cee3;stroke:#a6cee3;\" x=\"42.143182\" xlink:href=\"#C0_0_06fe65212e\" y=\"77.441721\"/>\n    </g>\n    <g clip-path=\"url(#p69ee4097f8)\">\n     <use style=\"fill:#a6cee3;stroke:#a6cee3;\" x=\"42.143182\" xlink:href=\"#C0_0_06fe65212e\" y=\"127.237141\"/>\n    </g>\n    <g clip-path=\"url(#p69ee4097f8)\">\n     <use style=\"fill:#a6cee3;stroke:#a6cee3;\" x=\"346.506818\" xlink:href=\"#C0_0_06fe65212e\" y=\"103.093907\"/>\n    </g>\n    <g clip-path=\"url(#p69ee4097f8)\">\n     <use style=\"fill:#a6cee3;stroke:#a6cee3;\" x=\"126.105564\" xlink:href=\"#C0_0_06fe65212e\" y=\"214.756364\"/>\n    </g>\n    <g clip-path=\"url(#p69ee4097f8)\">\n     <use style=\"fill:#a6cee3;stroke:#a6cee3;\" x=\"52.63848\" xlink:href=\"#C0_0_06fe65212e\" y=\"26.137349\"/>\n    </g>\n    <g clip-path=\"url(#p69ee4097f8)\">\n     <use style=\"fill:#b15928;stroke:#b15928;\" x=\"175.083621\" xlink:href=\"#C0_0_06fe65212e\" y=\"148.362471\"/>\n    </g>\n    <g clip-path=\"url(#p69ee4097f8)\">\n     <use style=\"fill:#a6cee3;stroke:#a6cee3;\" x=\"45.641614\" xlink:href=\"#C0_0_06fe65212e\" y=\"33.68211\"/>\n    </g>\n    <g clip-path=\"url(#p69ee4097f8)\">\n     <use style=\"fill:#a6cee3;stroke:#a6cee3;\" x=\"80.62594\" xlink:href=\"#C0_0_06fe65212e\" y=\"128.746093\"/>\n    </g>\n    <g clip-path=\"url(#p69ee4097f8)\">\n     <use style=\"fill:#a6cee3;stroke:#a6cee3;\" x=\"42.143182\" xlink:href=\"#C0_0_06fe65212e\" y=\"54.807439\"/>\n    </g>\n    <g clip-path=\"url(#p69ee4097f8)\">\n     <use style=\"fill:#a6cee3;stroke:#a6cee3;\" x=\"42.143182\" xlink:href=\"#C0_0_06fe65212e\" y=\"98.567051\"/>\n    </g>\n    <g clip-path=\"url(#p69ee4097f8)\">\n     <use style=\"fill:#a6cee3;stroke:#a6cee3;\" x=\"42.143182\" xlink:href=\"#C0_0_06fe65212e\" y=\"160.434087\"/>\n    </g>\n    <g clip-path=\"url(#p69ee4097f8)\">\n     <use style=\"fill:#a6cee3;stroke:#a6cee3;\" x=\"42.143182\" xlink:href=\"#C0_0_06fe65212e\" y=\"26.137349\"/>\n    </g>\n    <g clip-path=\"url(#p69ee4097f8)\">\n     <use style=\"fill:#b15928;stroke:#b15928;\" x=\"42.143182\" xlink:href=\"#C0_0_06fe65212e\" y=\"72.914865\"/>\n    </g>\n    <g clip-path=\"url(#p69ee4097f8)\">\n     <use style=\"fill:#a6cee3;stroke:#a6cee3;\" x=\"42.143182\" xlink:href=\"#C0_0_06fe65212e\" y=\"32.173158\"/>\n    </g>\n    <g clip-path=\"url(#p69ee4097f8)\">\n     <use style=\"fill:#b15928;stroke:#b15928;\" x=\"42.143182\" xlink:href=\"#C0_0_06fe65212e\" y=\"60.843248\"/>\n    </g>\n    <g clip-path=\"url(#p69ee4097f8)\">\n     <use style=\"fill:#a6cee3;stroke:#a6cee3;\" x=\"42.143182\" xlink:href=\"#C0_0_06fe65212e\" y=\"98.567051\"/>\n    </g>\n    <g clip-path=\"url(#p69ee4097f8)\">\n     <use style=\"fill:#a6cee3;stroke:#a6cee3;\" x=\"45.641614\" xlink:href=\"#C0_0_06fe65212e\" y=\"124.219237\"/>\n    </g>\n    <g clip-path=\"url(#p69ee4097f8)\">\n     <use style=\"fill:#a6cee3;stroke:#a6cee3;\" x=\"42.143182\" xlink:href=\"#C0_0_06fe65212e\" y=\"151.380375\"/>\n    </g>\n    <g clip-path=\"url(#p69ee4097f8)\">\n     <use style=\"fill:#b15928;stroke:#b15928;\" x=\"42.143182\" xlink:href=\"#C0_0_06fe65212e\" y=\"134.781901\"/>\n    </g>\n    <g clip-path=\"url(#p69ee4097f8)\">\n     <use style=\"fill:#a6cee3;stroke:#a6cee3;\" x=\"42.143182\" xlink:href=\"#C0_0_06fe65212e\" y=\"57.825344\"/>\n    </g>\n    <g clip-path=\"url(#p69ee4097f8)\">\n     <use style=\"fill:#b15928;stroke:#b15928;\" x=\"52.63848\" xlink:href=\"#C0_0_06fe65212e\" y=\"193.631034\"/>\n    </g>\n    <g clip-path=\"url(#p69ee4097f8)\">\n     <use style=\"fill:#a6cee3;stroke:#a6cee3;\" x=\"42.143182\" xlink:href=\"#C0_0_06fe65212e\" y=\"26.137349\"/>\n    </g>\n    <g clip-path=\"url(#p69ee4097f8)\">\n     <use style=\"fill:#a6cee3;stroke:#a6cee3;\" x=\"42.143182\" xlink:href=\"#C0_0_06fe65212e\" y=\"60.843248\"/>\n    </g>\n    <g clip-path=\"url(#p69ee4097f8)\">\n     <use style=\"fill:#b15928;stroke:#b15928;\" x=\"77.127508\" xlink:href=\"#C0_0_06fe65212e\" y=\"106.111811\"/>\n    </g>\n    <g clip-path=\"url(#p69ee4097f8)\">\n     <use style=\"fill:#a6cee3;stroke:#a6cee3;\" x=\"42.143182\" xlink:href=\"#C0_0_06fe65212e\" y=\"32.173158\"/>\n    </g>\n    <g clip-path=\"url(#p69ee4097f8)\">\n     <use style=\"fill:#a6cee3;stroke:#a6cee3;\" x=\"63.133777\" xlink:href=\"#C0_0_06fe65212e\" y=\"113.656572\"/>\n    </g>\n    <g clip-path=\"url(#p69ee4097f8)\">\n     <use style=\"fill:#b15928;stroke:#b15928;\" x=\"49.140047\" xlink:href=\"#C0_0_06fe65212e\" y=\"214.756364\"/>\n    </g>\n    <g clip-path=\"url(#p69ee4097f8)\">\n     <use style=\"fill:#a6cee3;stroke:#a6cee3;\" x=\"42.143182\" xlink:href=\"#C0_0_06fe65212e\" y=\"48.771631\"/>\n    </g>\n    <g clip-path=\"url(#p69ee4097f8)\">\n     <use style=\"fill:#b15928;stroke:#b15928;\" x=\"42.143182\" xlink:href=\"#C0_0_06fe65212e\" y=\"98.567051\"/>\n    </g>\n    <g clip-path=\"url(#p69ee4097f8)\">\n     <use style=\"fill:#a6cee3;stroke:#a6cee3;\" x=\"42.143182\" xlink:href=\"#C0_0_06fe65212e\" y=\"53.298487\"/>\n    </g>\n    <g clip-path=\"url(#p69ee4097f8)\">\n     <use style=\"fill:#a6cee3;stroke:#a6cee3;\" x=\"255.547571\" xlink:href=\"#C0_0_06fe65212e\" y=\"100.076003\"/>\n    </g>\n    <g clip-path=\"url(#p69ee4097f8)\">\n     <use style=\"fill:#a6cee3;stroke:#a6cee3;\" x=\"42.143182\" xlink:href=\"#C0_0_06fe65212e\" y=\"115.165524\"/>\n    </g>\n    <g clip-path=\"url(#p69ee4097f8)\">\n     <use style=\"fill:#a6cee3;stroke:#a6cee3;\" x=\"42.143182\" xlink:href=\"#C0_0_06fe65212e\" y=\"128.746093\"/>\n    </g>\n    <g clip-path=\"url(#p69ee4097f8)\">\n     <use style=\"fill:#a6cee3;stroke:#a6cee3;\" x=\"52.63848\" xlink:href=\"#C0_0_06fe65212e\" y=\"65.370104\"/>\n    </g>\n    <g clip-path=\"url(#p69ee4097f8)\">\n     <use style=\"fill:#a6cee3;stroke:#a6cee3;\" x=\"42.143182\" xlink:href=\"#C0_0_06fe65212e\" y=\"53.298487\"/>\n    </g>\n    <g clip-path=\"url(#p69ee4097f8)\">\n     <use style=\"fill:#a6cee3;stroke:#a6cee3;\" x=\"45.641614\" xlink:href=\"#C0_0_06fe65212e\" y=\"39.717918\"/>\n    </g>\n    <g clip-path=\"url(#p69ee4097f8)\">\n     <use style=\"fill:#a6cee3;stroke:#a6cee3;\" x=\"42.143182\" xlink:href=\"#C0_0_06fe65212e\" y=\"210.229507\"/>\n    </g>\n    <g clip-path=\"url(#p69ee4097f8)\">\n     <use style=\"fill:#a6cee3;stroke:#a6cee3;\" x=\"42.143182\" xlink:href=\"#C0_0_06fe65212e\" y=\"45.753727\"/>\n    </g>\n    <g clip-path=\"url(#p69ee4097f8)\">\n     <use style=\"fill:#a6cee3;stroke:#a6cee3;\" x=\"77.127508\" xlink:href=\"#C0_0_06fe65212e\" y=\"18.592588\"/>\n    </g>\n    <g clip-path=\"url(#p69ee4097f8)\">\n     <use style=\"fill:#b15928;stroke:#b15928;\" x=\"42.143182\" xlink:href=\"#C0_0_06fe65212e\" y=\"193.631034\"/>\n    </g>\n    <g clip-path=\"url(#p69ee4097f8)\">\n     <use style=\"fill:#a6cee3;stroke:#a6cee3;\" x=\"56.136912\" xlink:href=\"#C0_0_06fe65212e\" y=\"89.513338\"/>\n    </g>\n    <g clip-path=\"url(#p69ee4097f8)\">\n     <use style=\"fill:#a6cee3;stroke:#a6cee3;\" x=\"42.143182\" xlink:href=\"#C0_0_06fe65212e\" y=\"51.789535\"/>\n    </g>\n    <g clip-path=\"url(#p69ee4097f8)\">\n     <use style=\"fill:#a6cee3;stroke:#a6cee3;\" x=\"42.143182\" xlink:href=\"#C0_0_06fe65212e\" y=\"100.076003\"/>\n    </g>\n    <g clip-path=\"url(#p69ee4097f8)\">\n     <use style=\"fill:#b15928;stroke:#b15928;\" x=\"213.566379\" xlink:href=\"#C0_0_06fe65212e\" y=\"131.763997\"/>\n    </g>\n    <g clip-path=\"url(#p69ee4097f8)\">\n     <use style=\"fill:#a6cee3;stroke:#a6cee3;\" x=\"168.086755\" xlink:href=\"#C0_0_06fe65212e\" y=\"137.799806\"/>\n    </g>\n    <g clip-path=\"url(#p69ee4097f8)\">\n     <use style=\"fill:#a6cee3;stroke:#a6cee3;\" x=\"45.641614\" xlink:href=\"#C0_0_06fe65212e\" y=\"30.664205\"/>\n    </g>\n   </g>\n   <g id=\"PathCollection_2\">\n    <defs>\n     <path d=\"M 0 5 \nC 1.326016 5 2.597899 4.473168 3.535534 3.535534 \nC 4.473168 2.597899 5 1.326016 5 0 \nC 5 -1.326016 4.473168 -2.597899 3.535534 -3.535534 \nC 2.597899 -4.473168 1.326016 -5 0 -5 \nC -1.326016 -5 -2.597899 -4.473168 -3.535534 -3.535534 \nC -4.473168 -2.597899 -5 -1.326016 -5 0 \nC -5 1.326016 -4.473168 2.597899 -3.535534 3.535534 \nC -2.597899 4.473168 -1.326016 5 0 5 \nz\n\" id=\"C1_0_6315b2118f\"/>\n    </defs>\n    <g clip-path=\"url(#p69ee4097f8)\">\n     <use style=\"fill:none;stroke:#000000;\" x=\"42.143182\" xlink:href=\"#C1_0_6315b2118f\" y=\"88.004386\"/>\n    </g>\n    <g clip-path=\"url(#p69ee4097f8)\">\n     <use style=\"fill:none;stroke:#000000;\" x=\"42.143182\" xlink:href=\"#C1_0_6315b2118f\" y=\"83.477529\"/>\n    </g>\n    <g clip-path=\"url(#p69ee4097f8)\">\n     <use style=\"fill:none;stroke:#000000;\" x=\"42.143182\" xlink:href=\"#C1_0_6315b2118f\" y=\"177.032561\"/>\n    </g>\n    <g clip-path=\"url(#p69ee4097f8)\">\n     <use style=\"fill:none;stroke:#000000;\" x=\"42.143182\" xlink:href=\"#C1_0_6315b2118f\" y=\"142.326662\"/>\n    </g>\n    <g clip-path=\"url(#p69ee4097f8)\">\n     <use style=\"fill:none;stroke:#000000;\" x=\"42.143182\" xlink:href=\"#C1_0_6315b2118f\" y=\"88.004386\"/>\n    </g>\n    <g clip-path=\"url(#p69ee4097f8)\">\n     <use style=\"fill:none;stroke:#000000;\" x=\"91.121238\" xlink:href=\"#C1_0_6315b2118f\" y=\"62.3522\"/>\n    </g>\n    <g clip-path=\"url(#p69ee4097f8)\">\n     <use style=\"fill:none;stroke:#000000;\" x=\"42.143182\" xlink:href=\"#C1_0_6315b2118f\" y=\"127.237141\"/>\n    </g>\n    <g clip-path=\"url(#p69ee4097f8)\">\n     <use style=\"fill:none;stroke:#000000;\" x=\"126.105564\" xlink:href=\"#C1_0_6315b2118f\" y=\"214.756364\"/>\n    </g>\n    <g clip-path=\"url(#p69ee4097f8)\">\n     <use style=\"fill:none;stroke:#000000;\" x=\"42.143182\" xlink:href=\"#C1_0_6315b2118f\" y=\"160.434087\"/>\n    </g>\n    <g clip-path=\"url(#p69ee4097f8)\">\n     <use style=\"fill:none;stroke:#000000;\" x=\"255.547571\" xlink:href=\"#C1_0_6315b2118f\" y=\"100.076003\"/>\n    </g>\n    <g clip-path=\"url(#p69ee4097f8)\">\n     <use style=\"fill:none;stroke:#000000;\" x=\"42.143182\" xlink:href=\"#C1_0_6315b2118f\" y=\"210.229507\"/>\n    </g>\n    <g clip-path=\"url(#p69ee4097f8)\">\n     <use style=\"fill:none;stroke:#000000;\" x=\"168.086755\" xlink:href=\"#C1_0_6315b2118f\" y=\"137.799806\"/>\n    </g>\n    <g clip-path=\"url(#p69ee4097f8)\">\n     <use style=\"fill:none;stroke:#000000;\" x=\"45.641614\" xlink:href=\"#C1_0_6315b2118f\" y=\"30.664205\"/>\n    </g>\n    <g clip-path=\"url(#p69ee4097f8)\">\n     <use style=\"fill:none;stroke:#000000;\" x=\"42.143182\" xlink:href=\"#C1_0_6315b2118f\" y=\"59.334296\"/>\n    </g>\n    <g clip-path=\"url(#p69ee4097f8)\">\n     <use style=\"fill:none;stroke:#000000;\" x=\"133.102429\" xlink:href=\"#C1_0_6315b2118f\" y=\"167.978848\"/>\n    </g>\n    <g clip-path=\"url(#p69ee4097f8)\">\n     <use style=\"fill:none;stroke:#000000;\" x=\"175.083621\" xlink:href=\"#C1_0_6315b2118f\" y=\"148.362471\"/>\n    </g>\n    <g clip-path=\"url(#p69ee4097f8)\">\n     <use style=\"fill:none;stroke:#000000;\" x=\"42.143182\" xlink:href=\"#C1_0_6315b2118f\" y=\"72.914865\"/>\n    </g>\n    <g clip-path=\"url(#p69ee4097f8)\">\n     <use style=\"fill:none;stroke:#000000;\" x=\"42.143182\" xlink:href=\"#C1_0_6315b2118f\" y=\"60.843248\"/>\n    </g>\n    <g clip-path=\"url(#p69ee4097f8)\">\n     <use style=\"fill:none;stroke:#000000;\" x=\"42.143182\" xlink:href=\"#C1_0_6315b2118f\" y=\"134.781901\"/>\n    </g>\n    <g clip-path=\"url(#p69ee4097f8)\">\n     <use style=\"fill:none;stroke:#000000;\" x=\"52.63848\" xlink:href=\"#C1_0_6315b2118f\" y=\"193.631034\"/>\n    </g>\n    <g clip-path=\"url(#p69ee4097f8)\">\n     <use style=\"fill:none;stroke:#000000;\" x=\"77.127508\" xlink:href=\"#C1_0_6315b2118f\" y=\"106.111811\"/>\n    </g>\n    <g clip-path=\"url(#p69ee4097f8)\">\n     <use style=\"fill:none;stroke:#000000;\" x=\"49.140047\" xlink:href=\"#C1_0_6315b2118f\" y=\"214.756364\"/>\n    </g>\n    <g clip-path=\"url(#p69ee4097f8)\">\n     <use style=\"fill:none;stroke:#000000;\" x=\"42.143182\" xlink:href=\"#C1_0_6315b2118f\" y=\"98.567051\"/>\n    </g>\n    <g clip-path=\"url(#p69ee4097f8)\">\n     <use style=\"fill:none;stroke:#000000;\" x=\"42.143182\" xlink:href=\"#C1_0_6315b2118f\" y=\"193.631034\"/>\n    </g>\n    <g clip-path=\"url(#p69ee4097f8)\">\n     <use style=\"fill:none;stroke:#000000;\" x=\"213.566379\" xlink:href=\"#C1_0_6315b2118f\" y=\"131.763997\"/>\n    </g>\n   </g>\n   <g id=\"matplotlib.axis_1\">\n    <g id=\"xtick_1\">\n     <g id=\"line2d_1\">\n      <defs>\n       <path d=\"M 0 0 \nL 0 3.5 \n\" id=\"m97f62249fb\" style=\"stroke:#000000;stroke-width:0.8;\"/>\n      </defs>\n      <g>\n       <use style=\"stroke:#000000;stroke-width:0.8;\" x=\"42.143182\" xlink:href=\"#m97f62249fb\" y=\"224.64\"/>\n      </g>\n     </g>\n     <g id=\"text_1\">\n      <!-- 0.0 -->\n      <defs>\n       <path d=\"M 31.78125 66.40625 \nQ 24.171875 66.40625 20.328125 58.90625 \nQ 16.5 51.421875 16.5 36.375 \nQ 16.5 21.390625 20.328125 13.890625 \nQ 24.171875 6.390625 31.78125 6.390625 \nQ 39.453125 6.390625 43.28125 13.890625 \nQ 47.125 21.390625 47.125 36.375 \nQ 47.125 51.421875 43.28125 58.90625 \nQ 39.453125 66.40625 31.78125 66.40625 \nz\nM 31.78125 74.21875 \nQ 44.046875 74.21875 50.515625 64.515625 \nQ 56.984375 54.828125 56.984375 36.375 \nQ 56.984375 17.96875 50.515625 8.265625 \nQ 44.046875 -1.421875 31.78125 -1.421875 \nQ 19.53125 -1.421875 13.0625 8.265625 \nQ 6.59375 17.96875 6.59375 36.375 \nQ 6.59375 54.828125 13.0625 64.515625 \nQ 19.53125 74.21875 31.78125 74.21875 \nz\n\" id=\"DejaVuSans-48\"/>\n       <path d=\"M 10.6875 12.40625 \nL 21 12.40625 \nL 21 0 \nL 10.6875 0 \nz\n\" id=\"DejaVuSans-46\"/>\n      </defs>\n      <g transform=\"translate(34.191619 239.238438)scale(0.1 -0.1)\">\n       <use xlink:href=\"#DejaVuSans-48\"/>\n       <use x=\"63.623047\" xlink:href=\"#DejaVuSans-46\"/>\n       <use x=\"95.410156\" xlink:href=\"#DejaVuSans-48\"/>\n      </g>\n     </g>\n    </g>\n    <g id=\"xtick_2\">\n     <g id=\"line2d_2\">\n      <g>\n       <use style=\"stroke:#000000;stroke-width:0.8;\" x=\"85.873589\" xlink:href=\"#m97f62249fb\" y=\"224.64\"/>\n      </g>\n     </g>\n     <g id=\"text_2\">\n      <!-- 2.5 -->\n      <defs>\n       <path d=\"M 19.1875 8.296875 \nL 53.609375 8.296875 \nL 53.609375 0 \nL 7.328125 0 \nL 7.328125 8.296875 \nQ 12.9375 14.109375 22.625 23.890625 \nQ 32.328125 33.6875 34.8125 36.53125 \nQ 39.546875 41.84375 41.421875 45.53125 \nQ 43.3125 49.21875 43.3125 52.78125 \nQ 43.3125 58.59375 39.234375 62.25 \nQ 35.15625 65.921875 28.609375 65.921875 \nQ 23.96875 65.921875 18.8125 64.3125 \nQ 13.671875 62.703125 7.8125 59.421875 \nL 7.8125 69.390625 \nQ 13.765625 71.78125 18.9375 73 \nQ 24.125 74.21875 28.421875 74.21875 \nQ 39.75 74.21875 46.484375 68.546875 \nQ 53.21875 62.890625 53.21875 53.421875 \nQ 53.21875 48.921875 51.53125 44.890625 \nQ 49.859375 40.875 45.40625 35.40625 \nQ 44.1875 33.984375 37.640625 27.21875 \nQ 31.109375 20.453125 19.1875 8.296875 \nz\n\" id=\"DejaVuSans-50\"/>\n       <path d=\"M 10.796875 72.90625 \nL 49.515625 72.90625 \nL 49.515625 64.59375 \nL 19.828125 64.59375 \nL 19.828125 46.734375 \nQ 21.96875 47.46875 24.109375 47.828125 \nQ 26.265625 48.1875 28.421875 48.1875 \nQ 40.625 48.1875 47.75 41.5 \nQ 54.890625 34.8125 54.890625 23.390625 \nQ 54.890625 11.625 47.5625 5.09375 \nQ 40.234375 -1.421875 26.90625 -1.421875 \nQ 22.3125 -1.421875 17.546875 -0.640625 \nQ 12.796875 0.140625 7.71875 1.703125 \nL 7.71875 11.625 \nQ 12.109375 9.234375 16.796875 8.0625 \nQ 21.484375 6.890625 26.703125 6.890625 \nQ 35.15625 6.890625 40.078125 11.328125 \nQ 45.015625 15.765625 45.015625 23.390625 \nQ 45.015625 31 40.078125 35.4375 \nQ 35.15625 39.890625 26.703125 39.890625 \nQ 22.75 39.890625 18.8125 39.015625 \nQ 14.890625 38.140625 10.796875 36.28125 \nz\n\" id=\"DejaVuSans-53\"/>\n      </defs>\n      <g transform=\"translate(77.922027 239.238438)scale(0.1 -0.1)\">\n       <use xlink:href=\"#DejaVuSans-50\"/>\n       <use x=\"63.623047\" xlink:href=\"#DejaVuSans-46\"/>\n       <use x=\"95.410156\" xlink:href=\"#DejaVuSans-53\"/>\n      </g>\n     </g>\n    </g>\n    <g id=\"xtick_3\">\n     <g id=\"line2d_3\">\n      <g>\n       <use style=\"stroke:#000000;stroke-width:0.8;\" x=\"129.603997\" xlink:href=\"#m97f62249fb\" y=\"224.64\"/>\n      </g>\n     </g>\n     <g id=\"text_3\">\n      <!-- 5.0 -->\n      <g transform=\"translate(121.652434 239.238438)scale(0.1 -0.1)\">\n       <use xlink:href=\"#DejaVuSans-53\"/>\n       <use x=\"63.623047\" xlink:href=\"#DejaVuSans-46\"/>\n       <use x=\"95.410156\" xlink:href=\"#DejaVuSans-48\"/>\n      </g>\n     </g>\n    </g>\n    <g id=\"xtick_4\">\n     <g id=\"line2d_4\">\n      <g>\n       <use style=\"stroke:#000000;stroke-width:0.8;\" x=\"173.334404\" xlink:href=\"#m97f62249fb\" y=\"224.64\"/>\n      </g>\n     </g>\n     <g id=\"text_4\">\n      <!-- 7.5 -->\n      <defs>\n       <path d=\"M 8.203125 72.90625 \nL 55.078125 72.90625 \nL 55.078125 68.703125 \nL 28.609375 0 \nL 18.3125 0 \nL 43.21875 64.59375 \nL 8.203125 64.59375 \nz\n\" id=\"DejaVuSans-55\"/>\n      </defs>\n      <g transform=\"translate(165.382842 239.238438)scale(0.1 -0.1)\">\n       <use xlink:href=\"#DejaVuSans-55\"/>\n       <use x=\"63.623047\" xlink:href=\"#DejaVuSans-46\"/>\n       <use x=\"95.410156\" xlink:href=\"#DejaVuSans-53\"/>\n      </g>\n     </g>\n    </g>\n    <g id=\"xtick_5\">\n     <g id=\"line2d_5\">\n      <g>\n       <use style=\"stroke:#000000;stroke-width:0.8;\" x=\"217.064812\" xlink:href=\"#m97f62249fb\" y=\"224.64\"/>\n      </g>\n     </g>\n     <g id=\"text_5\">\n      <!-- 10.0 -->\n      <defs>\n       <path d=\"M 12.40625 8.296875 \nL 28.515625 8.296875 \nL 28.515625 63.921875 \nL 10.984375 60.40625 \nL 10.984375 69.390625 \nL 28.421875 72.90625 \nL 38.28125 72.90625 \nL 38.28125 8.296875 \nL 54.390625 8.296875 \nL 54.390625 0 \nL 12.40625 0 \nz\n\" id=\"DejaVuSans-49\"/>\n      </defs>\n      <g transform=\"translate(205.931999 239.238438)scale(0.1 -0.1)\">\n       <use xlink:href=\"#DejaVuSans-49\"/>\n       <use x=\"63.623047\" xlink:href=\"#DejaVuSans-48\"/>\n       <use x=\"127.246094\" xlink:href=\"#DejaVuSans-46\"/>\n       <use x=\"159.033203\" xlink:href=\"#DejaVuSans-48\"/>\n      </g>\n     </g>\n    </g>\n    <g id=\"xtick_6\">\n     <g id=\"line2d_6\">\n      <g>\n       <use style=\"stroke:#000000;stroke-width:0.8;\" x=\"260.795219\" xlink:href=\"#m97f62249fb\" y=\"224.64\"/>\n      </g>\n     </g>\n     <g id=\"text_6\">\n      <!-- 12.5 -->\n      <g transform=\"translate(249.662407 239.238438)scale(0.1 -0.1)\">\n       <use xlink:href=\"#DejaVuSans-49\"/>\n       <use x=\"63.623047\" xlink:href=\"#DejaVuSans-50\"/>\n       <use x=\"127.246094\" xlink:href=\"#DejaVuSans-46\"/>\n       <use x=\"159.033203\" xlink:href=\"#DejaVuSans-53\"/>\n      </g>\n     </g>\n    </g>\n    <g id=\"xtick_7\">\n     <g id=\"line2d_7\">\n      <g>\n       <use style=\"stroke:#000000;stroke-width:0.8;\" x=\"304.525627\" xlink:href=\"#m97f62249fb\" y=\"224.64\"/>\n      </g>\n     </g>\n     <g id=\"text_7\">\n      <!-- 15.0 -->\n      <g transform=\"translate(293.392814 239.238438)scale(0.1 -0.1)\">\n       <use xlink:href=\"#DejaVuSans-49\"/>\n       <use x=\"63.623047\" xlink:href=\"#DejaVuSans-53\"/>\n       <use x=\"127.246094\" xlink:href=\"#DejaVuSans-46\"/>\n       <use x=\"159.033203\" xlink:href=\"#DejaVuSans-48\"/>\n      </g>\n     </g>\n    </g>\n    <g id=\"xtick_8\">\n     <g id=\"line2d_8\">\n      <g>\n       <use style=\"stroke:#000000;stroke-width:0.8;\" x=\"348.256034\" xlink:href=\"#m97f62249fb\" y=\"224.64\"/>\n      </g>\n     </g>\n     <g id=\"text_8\">\n      <!-- 17.5 -->\n      <g transform=\"translate(337.123222 239.238438)scale(0.1 -0.1)\">\n       <use xlink:href=\"#DejaVuSans-49\"/>\n       <use x=\"63.623047\" xlink:href=\"#DejaVuSans-55\"/>\n       <use x=\"127.246094\" xlink:href=\"#DejaVuSans-46\"/>\n       <use x=\"159.033203\" xlink:href=\"#DejaVuSans-53\"/>\n      </g>\n     </g>\n    </g>\n   </g>\n   <g id=\"matplotlib.axis_2\">\n    <g id=\"ytick_1\">\n     <g id=\"line2d_9\">\n      <defs>\n       <path d=\"M 0 0 \nL -3.5 0 \n\" id=\"m6d453baddb\" style=\"stroke:#000000;stroke-width:0.8;\"/>\n      </defs>\n      <g>\n       <use style=\"stroke:#000000;stroke-width:0.8;\" x=\"26.925\" xlink:href=\"#m6d453baddb\" y=\"222.301124\"/>\n      </g>\n     </g>\n     <g id=\"text_9\">\n      <!-- 0 -->\n      <g transform=\"translate(13.5625 226.100343)scale(0.1 -0.1)\">\n       <use xlink:href=\"#DejaVuSans-48\"/>\n      </g>\n     </g>\n    </g>\n    <g id=\"ytick_2\">\n     <g id=\"line2d_10\">\n      <g>\n       <use style=\"stroke:#000000;stroke-width:0.8;\" x=\"26.925\" xlink:href=\"#m6d453baddb\" y=\"192.122082\"/>\n      </g>\n     </g>\n     <g id=\"text_10\">\n      <!-- 2 -->\n      <g transform=\"translate(13.5625 195.921301)scale(0.1 -0.1)\">\n       <use xlink:href=\"#DejaVuSans-50\"/>\n      </g>\n     </g>\n    </g>\n    <g id=\"ytick_3\">\n     <g id=\"line2d_11\">\n      <g>\n       <use style=\"stroke:#000000;stroke-width:0.8;\" x=\"26.925\" xlink:href=\"#m6d453baddb\" y=\"161.94304\"/>\n      </g>\n     </g>\n     <g id=\"text_11\">\n      <!-- 4 -->\n      <defs>\n       <path d=\"M 37.796875 64.3125 \nL 12.890625 25.390625 \nL 37.796875 25.390625 \nz\nM 35.203125 72.90625 \nL 47.609375 72.90625 \nL 47.609375 25.390625 \nL 58.015625 25.390625 \nL 58.015625 17.1875 \nL 47.609375 17.1875 \nL 47.609375 0 \nL 37.796875 0 \nL 37.796875 17.1875 \nL 4.890625 17.1875 \nL 4.890625 26.703125 \nz\n\" id=\"DejaVuSans-52\"/>\n      </defs>\n      <g transform=\"translate(13.5625 165.742258)scale(0.1 -0.1)\">\n       <use xlink:href=\"#DejaVuSans-52\"/>\n      </g>\n     </g>\n    </g>\n    <g id=\"ytick_4\">\n     <g id=\"line2d_12\">\n      <g>\n       <use style=\"stroke:#000000;stroke-width:0.8;\" x=\"26.925\" xlink:href=\"#m6d453baddb\" y=\"131.763997\"/>\n      </g>\n     </g>\n     <g id=\"text_12\">\n      <!-- 6 -->\n      <defs>\n       <path d=\"M 33.015625 40.375 \nQ 26.375 40.375 22.484375 35.828125 \nQ 18.609375 31.296875 18.609375 23.390625 \nQ 18.609375 15.53125 22.484375 10.953125 \nQ 26.375 6.390625 33.015625 6.390625 \nQ 39.65625 6.390625 43.53125 10.953125 \nQ 47.40625 15.53125 47.40625 23.390625 \nQ 47.40625 31.296875 43.53125 35.828125 \nQ 39.65625 40.375 33.015625 40.375 \nz\nM 52.59375 71.296875 \nL 52.59375 62.3125 \nQ 48.875 64.0625 45.09375 64.984375 \nQ 41.3125 65.921875 37.59375 65.921875 \nQ 27.828125 65.921875 22.671875 59.328125 \nQ 17.53125 52.734375 16.796875 39.40625 \nQ 19.671875 43.65625 24.015625 45.921875 \nQ 28.375 48.1875 33.59375 48.1875 \nQ 44.578125 48.1875 50.953125 41.515625 \nQ 57.328125 34.859375 57.328125 23.390625 \nQ 57.328125 12.15625 50.6875 5.359375 \nQ 44.046875 -1.421875 33.015625 -1.421875 \nQ 20.359375 -1.421875 13.671875 8.265625 \nQ 6.984375 17.96875 6.984375 36.375 \nQ 6.984375 53.65625 15.1875 63.9375 \nQ 23.390625 74.21875 37.203125 74.21875 \nQ 40.921875 74.21875 44.703125 73.484375 \nQ 48.484375 72.75 52.59375 71.296875 \nz\n\" id=\"DejaVuSans-54\"/>\n      </defs>\n      <g transform=\"translate(13.5625 135.563216)scale(0.1 -0.1)\">\n       <use xlink:href=\"#DejaVuSans-54\"/>\n      </g>\n     </g>\n    </g>\n    <g id=\"ytick_5\">\n     <g id=\"line2d_13\">\n      <g>\n       <use style=\"stroke:#000000;stroke-width:0.8;\" x=\"26.925\" xlink:href=\"#m6d453baddb\" y=\"101.584955\"/>\n      </g>\n     </g>\n     <g id=\"text_13\">\n      <!-- 8 -->\n      <defs>\n       <path d=\"M 31.78125 34.625 \nQ 24.75 34.625 20.71875 30.859375 \nQ 16.703125 27.09375 16.703125 20.515625 \nQ 16.703125 13.921875 20.71875 10.15625 \nQ 24.75 6.390625 31.78125 6.390625 \nQ 38.8125 6.390625 42.859375 10.171875 \nQ 46.921875 13.96875 46.921875 20.515625 \nQ 46.921875 27.09375 42.890625 30.859375 \nQ 38.875 34.625 31.78125 34.625 \nz\nM 21.921875 38.8125 \nQ 15.578125 40.375 12.03125 44.71875 \nQ 8.5 49.078125 8.5 55.328125 \nQ 8.5 64.0625 14.71875 69.140625 \nQ 20.953125 74.21875 31.78125 74.21875 \nQ 42.671875 74.21875 48.875 69.140625 \nQ 55.078125 64.0625 55.078125 55.328125 \nQ 55.078125 49.078125 51.53125 44.71875 \nQ 48 40.375 41.703125 38.8125 \nQ 48.828125 37.15625 52.796875 32.3125 \nQ 56.78125 27.484375 56.78125 20.515625 \nQ 56.78125 9.90625 50.3125 4.234375 \nQ 43.84375 -1.421875 31.78125 -1.421875 \nQ 19.734375 -1.421875 13.25 4.234375 \nQ 6.78125 9.90625 6.78125 20.515625 \nQ 6.78125 27.484375 10.78125 32.3125 \nQ 14.796875 37.15625 21.921875 38.8125 \nz\nM 18.3125 54.390625 \nQ 18.3125 48.734375 21.84375 45.5625 \nQ 25.390625 42.390625 31.78125 42.390625 \nQ 38.140625 42.390625 41.71875 45.5625 \nQ 45.3125 48.734375 45.3125 54.390625 \nQ 45.3125 60.0625 41.71875 63.234375 \nQ 38.140625 66.40625 31.78125 66.40625 \nQ 25.390625 66.40625 21.84375 63.234375 \nQ 18.3125 60.0625 18.3125 54.390625 \nz\n\" id=\"DejaVuSans-56\"/>\n      </defs>\n      <g transform=\"translate(13.5625 105.384174)scale(0.1 -0.1)\">\n       <use xlink:href=\"#DejaVuSans-56\"/>\n      </g>\n     </g>\n    </g>\n    <g id=\"ytick_6\">\n     <g id=\"line2d_14\">\n      <g>\n       <use style=\"stroke:#000000;stroke-width:0.8;\" x=\"26.925\" xlink:href=\"#m6d453baddb\" y=\"71.405913\"/>\n      </g>\n     </g>\n     <g id=\"text_14\">\n      <!-- 10 -->\n      <g transform=\"translate(7.2 75.205131)scale(0.1 -0.1)\">\n       <use xlink:href=\"#DejaVuSans-49\"/>\n       <use x=\"63.623047\" xlink:href=\"#DejaVuSans-48\"/>\n      </g>\n     </g>\n    </g>\n    <g id=\"ytick_7\">\n     <g id=\"line2d_15\">\n      <g>\n       <use style=\"stroke:#000000;stroke-width:0.8;\" x=\"26.925\" xlink:href=\"#m6d453baddb\" y=\"41.22687\"/>\n      </g>\n     </g>\n     <g id=\"text_15\">\n      <!-- 12 -->\n      <g transform=\"translate(7.2 45.026089)scale(0.1 -0.1)\">\n       <use xlink:href=\"#DejaVuSans-49\"/>\n       <use x=\"63.623047\" xlink:href=\"#DejaVuSans-50\"/>\n      </g>\n     </g>\n    </g>\n    <g id=\"ytick_8\">\n     <g id=\"line2d_16\">\n      <g>\n       <use style=\"stroke:#000000;stroke-width:0.8;\" x=\"26.925\" xlink:href=\"#m6d453baddb\" y=\"11.047828\"/>\n      </g>\n     </g>\n     <g id=\"text_16\">\n      <!-- 14 -->\n      <g transform=\"translate(7.2 14.847047)scale(0.1 -0.1)\">\n       <use xlink:href=\"#DejaVuSans-49\"/>\n       <use x=\"63.623047\" xlink:href=\"#DejaVuSans-52\"/>\n      </g>\n     </g>\n    </g>\n   </g>\n   <g id=\"LineCollection_1\">\n    <path clip-path=\"url(#p69ee4097f8)\" d=\"M 26.925 146.409722 \nL 38.469828 148.816229 \nL 42.520992 149.66069 \nL 50.014655 151.222736 \nL 61.559483 153.629243 \nL 73.10431 156.03575 \nL 78.491101 157.158621 \nL 84.649138 158.442257 \nL 96.193966 160.848764 \nL 107.738793 163.255271 \nL 114.461209 164.656552 \nL 119.283621 165.661778 \nL 130.828448 168.068286 \nL 142.373276 170.474793 \nL 150.431316 172.154483 \nL 153.918103 172.8813 \nL 165.462931 175.287807 \nL 177.007759 177.694314 \nL 186.401425 179.652414 \nL 188.552586 180.100821 \nL 200.097414 182.507328 \nL 211.642241 184.913836 \nL 222.371533 187.150345 \nL 223.187069 187.320343 \nL 234.731897 189.72685 \nL 246.276724 192.133357 \nL 257.821552 194.539863 \nL 258.341643 194.648276 \nL 269.366379 196.94637 \nL 280.911207 199.352878 \nL 292.456034 201.759385 \nL 294.311752 202.146207 \nL 304.000862 204.165892 \nL 315.54569 206.572399 \nL 327.090517 208.978906 \nL 330.281858 209.644138 \nL 338.635345 211.385413 \nL 350.180172 213.79192 \nL 361.725 216.198428 \n\" style=\"fill:none;stroke:#000000;stroke-dasharray:5.55,2.4;stroke-dashoffset:0;stroke-opacity:0.5;stroke-width:1.5;\"/>\n   </g>\n   <g id=\"LineCollection_2\"/>\n   <g id=\"LineCollection_3\"/>\n   <g id=\"patch_3\">\n    <path d=\"M 26.925 224.64 \nL 26.925 7.2 \n\" style=\"fill:none;stroke:#000000;stroke-linecap:square;stroke-linejoin:miter;stroke-width:0.8;\"/>\n   </g>\n   <g id=\"patch_4\">\n    <path d=\"M 361.725 224.64 \nL 361.725 7.2 \n\" style=\"fill:none;stroke:#000000;stroke-linecap:square;stroke-linejoin:miter;stroke-width:0.8;\"/>\n   </g>\n   <g id=\"patch_5\">\n    <path d=\"M 26.925 224.64 \nL 361.725 224.64 \n\" style=\"fill:none;stroke:#000000;stroke-linecap:square;stroke-linejoin:miter;stroke-width:0.8;\"/>\n   </g>\n   <g id=\"patch_6\">\n    <path d=\"M 26.925 7.2 \nL 361.725 7.2 \n\" style=\"fill:none;stroke:#000000;stroke-linecap:square;stroke-linejoin:miter;stroke-width:0.8;\"/>\n   </g>\n  </g>\n </g>\n <defs>\n  <clipPath id=\"p69ee4097f8\">\n   <rect height=\"217.44\" width=\"334.8\" x=\"26.925\" y=\"7.2\"/>\n  </clipPath>\n </defs>\n</svg>\n",
      "image/png": "[encoded data removed]"
     },
     "metadata": {
      "needs_background": "light"
     }
    }
   ],
   "source": [
    "from sklearn import svm\n",
    "from sklearn.metrics import confusion_matrix, classification_report\n",
    "from sklearn.datasets import make_blobs\n",
    "\n",
    "# https://scikit-learn.org/stable/auto_examples/svm/plot_separating_hyperplane.html\n",
    "# we create 40 separable points\n",
    "# X, y = make_blobs(n_samples=40, centers=2, random_state=6)\n",
    "X = np.asarray(x_test)\n",
    "y = np.asarray(y_test)\n",
    "#X, y = x_test, y_test\n",
    "\n",
    "# fit the model, don't regularize for illustration purposes\n",
    "clf = svm.SVC(kernel='linear', C=1000)\n",
    "clf.fit(X, y)\n",
    "\n",
    "plt.scatter(X[:, 0], X[:, 1], c=y, s=30, cmap=plt.cm.Paired)\n",
    "\n",
    "#plt.figure(figsize=(8,6))\n",
    "# plot the decision function\n",
    "ax = plt.gca()\n",
    "xlim = ax.get_xlim()\n",
    "ylim = ax.get_ylim()\n",
    "\n",
    "# create grid to evaluate model\n",
    "xx = np.linspace(xlim[0], xlim[1], 30)\n",
    "yy = np.linspace(ylim[0], ylim[1], 30)\n",
    "YY, XX = np.meshgrid(yy, xx)\n",
    "xy = np.vstack([XX.ravel(), YY.ravel()]).T\n",
    "Z = clf.decision_function(xy).reshape(XX.shape)\n",
    "\n",
    "# plot decision boundary and margins\n",
    "ax.contour(XX, YY, Z, colors='k', levels=[-1, 0, 1], alpha=0.5,\n",
    "           linestyles=['--', '-', '--'])\n",
    "# plot support vectors\n",
    "ax.scatter(clf.support_vectors_[:, 0], clf.support_vectors_[:, 1], s=100,\n",
    "           linewidth=1, facecolors='none', edgecolors='k')\n",
    "plt.show()"
   ]
  },
  {
   "cell_type": "code",
   "execution_count": 30,
   "metadata": {},
   "outputs": [
    {
     "output_type": "execute_result",
     "data": {
      "text/plain": [
       "0.8181818181818182"
      ]
     },
     "metadata": {},
     "execution_count": 30
    }
   ],
   "source": [
    "54/66"
   ]
  },
  {
   "cell_type": "code",
   "execution_count": 31,
   "metadata": {},
   "outputs": [
    {
     "output_type": "execute_result",
     "data": {
      "text/plain": [
       "0.18181818181818182"
      ]
     },
     "metadata": {},
     "execution_count": 31
    }
   ],
   "source": [
    "12/66"
   ]
  },
  {
   "cell_type": "code",
   "execution_count": null,
   "metadata": {},
   "outputs": [],
   "source": []
  },
  {
   "cell_type": "code",
   "execution_count": 75,
   "metadata": {},
   "outputs": [],
   "source": [
    "from sklearn.neighbors import KNeighborsClassifier\n",
    "from sklearn.model_selection import cross_val_score\n",
    "knn = KNeighborsClassifier(n_neighbors=3)\n",
    "knn.fit(x_train, y_train)\n",
    "cv_scores = cross_val_score(knn, X, y, cv = 5)"
   ]
  },
  {
   "cell_type": "code",
   "execution_count": 76,
   "metadata": {},
   "outputs": [
    {
     "output_type": "execute_result",
     "data": {
      "text/plain": [
       "0.7727272727272727"
      ]
     },
     "metadata": {},
     "execution_count": 76
    }
   ],
   "source": [
    "knn.score(x_test,y_test)"
   ]
  },
  {
   "cell_type": "code",
   "execution_count": 77,
   "metadata": {},
   "outputs": [
    {
     "output_type": "execute_result",
     "data": {
      "text/plain": [
       "array([0.71428571, 0.69230769, 0.84615385, 0.69230769, 0.76923077])"
      ]
     },
     "metadata": {},
     "execution_count": 77
    }
   ],
   "source": [
    "cv_scores"
   ]
  },
  {
   "cell_type": "code",
   "execution_count": 78,
   "metadata": {},
   "outputs": [
    {
     "output_type": "execute_result",
     "data": {
      "text/plain": [
       "0.7428571428571429"
      ]
     },
     "metadata": {},
     "execution_count": 78
    }
   ],
   "source": [
    "np.mean(cv_scores)"
   ]
  },
  {
   "cell_type": "code",
   "execution_count": null,
   "metadata": {},
   "outputs": [],
   "source": []
  }
 ]
}