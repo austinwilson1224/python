{
 "metadata": {
  "language_info": {
   "codemirror_mode": {
    "name": "ipython",
    "version": 3
   },
   "file_extension": ".py",
   "mimetype": "text/x-python",
   "name": "python",
   "nbconvert_exporter": "python",
   "pygments_lexer": "ipython3",
   "version": "3.8.3-final"
  },
  "orig_nbformat": 2,
  "kernelspec": {
   "name": "python3",
   "display_name": "Python 3.8.3 64-bit ('base': conda)",
   "metadata": {
    "interpreter": {
     "hash": "53a728046be83de3d19e5c08d70c5e324e411643d64f859255094c936e26e9ab"
    }
   }
  }
 },
 "nbformat": 4,
 "nbformat_minor": 2,
 "cells": [
  {
   "cell_type": "code",
   "execution_count": 20,
   "metadata": {},
   "outputs": [],
   "source": [
    "import pandas as pd \n",
    "import numpy as np \n",
    "import tweepy\n",
    "from IPython.display import display\n",
    "from time import sleep\n"
   ]
  },
  {
   "cell_type": "code",
   "execution_count": 2,
   "metadata": {},
   "outputs": [],
   "source": [
    "# importing the data -- it should be stored in a dirrectory called data\n",
    "politifact_fake = pd.read_csv('data/politifact_fake.csv')\n",
    "politifact_real = pd.read_csv('data/politifact_real.csv')\n",
    "\n",
    "gossipcop_fake = pd.read_csv('data/gossipcop_fake.csv')\n",
    "gossipcop_real = pd.read_csv('data/gossipcop_real.csv')"
   ]
  },
  {
   "source": [
    "## looking at shape and columns "
   ],
   "cell_type": "markdown",
   "metadata": {}
  },
  {
   "cell_type": "code",
   "execution_count": 3,
   "metadata": {},
   "outputs": [
    {
     "output_type": "stream",
     "name": "stdout",
     "text": [
      "politifact fake:(432, 4)\npolitifact real:(624, 4)\ngossip cop fake(5323, 4)\ngossip cop real(16817, 4)\n"
     ]
    }
   ],
   "source": [
    "# looking at shape and columns \n",
    "print(\"politifact fake:\" + str(politifact_fake.shape)) # 432 pieces of news  (fake)\n",
    "print(\"politifact real:\" + str(politifact_real.shape)) # 624 pieces of news (real)\n",
    "\n",
    "print(\"gossip cop fake\" + str(gossipcop_fake.shape)) # 5323 pieces of news (fake)\n",
    "print(\"gossip cop real\" + str(gossipcop_real.shape)) # 16817 peices of news (real)"
   ]
  },
  {
   "source": [
    "## drop na values \n"
   ],
   "cell_type": "markdown",
   "metadata": {}
  },
  {
   "cell_type": "code",
   "execution_count": 4,
   "metadata": {},
   "outputs": [],
   "source": [
    "# drop na values \n",
    "politifact_fake.dropna(inplace=True)\n",
    "politifact_real.dropna(inplace=True)\n",
    "\n",
    "gossipcop_fake.dropna(inplace=True) \n",
    "gossipcop_real.dropna(inplace=True)"
   ]
  },
  {
   "source": [
    "## looking at shape and columns after dropping NA values \n"
   ],
   "cell_type": "markdown",
   "metadata": {}
  },
  {
   "cell_type": "code",
   "execution_count": 5,
   "metadata": {},
   "outputs": [
    {
     "output_type": "stream",
     "name": "stdout",
     "text": [
      "politifact fake:(389, 4)\npolitifact real:(373, 4)\ngossip cop fake:(4898, 4)\ngossip cop real:(15747, 4)\n"
     ]
    }
   ],
   "source": [
    "# looking at shape and columns after dropping NA values \n",
    "print(\"politifact fake:\" + str(politifact_fake.shape)) # 389 pieces of news  (fake)\n",
    "print(\"politifact real:\" + str(politifact_real.shape)) # 373 pieces of news (real)\n",
    "\n",
    "print(\"gossip cop fake:\" + str(gossipcop_fake.shape)) # 4898 pieces of news (fake)\n",
    "print(\"gossip cop real:\" + str(gossipcop_real.shape)) # 15747 pieces of news (real)"
   ]
  },
  {
   "source": [
    "## columns\n",
    "- id is the id associated with a peice of news\n",
    "- news_url is a link to the original news \n",
    "- title is the title associated with the news \n",
    "- tweet_ids is a tab seperated string of all the tweet ids associated with that piece of news"
   ],
   "cell_type": "markdown",
   "metadata": {}
  },
  {
   "cell_type": "code",
   "execution_count": 6,
   "metadata": {},
   "outputs": [
    {
     "output_type": "execute_result",
     "data": {
      "text/plain": [
       "Index(['id', 'news_url', 'title', 'tweet_ids'], dtype='object')"
      ]
     },
     "metadata": {},
     "execution_count": 6
    }
   ],
   "source": [
    "# column names\n",
    "politifact_fake.columns"
   ]
  },
  {
   "cell_type": "code",
   "execution_count": 7,
   "metadata": {},
   "outputs": [
    {
     "output_type": "execute_result",
     "data": {
      "text/plain": [
       "Index(['id', 'news_url', 'title', 'tweet_ids'], dtype='object')"
      ]
     },
     "metadata": {},
     "execution_count": 7
    }
   ],
   "source": [
    "gossipcop_fake.columns"
   ]
  },
  {
   "source": [
    "## looking at examples of each column"
   ],
   "cell_type": "markdown",
   "metadata": {}
  },
  {
   "cell_type": "code",
   "execution_count": 8,
   "metadata": {},
   "outputs": [
    {
     "output_type": "stream",
     "name": "stdout",
     "text": [
      "politifact15014\nspeedtalk.com/forum/viewtopic.php?t=51650\nBREAKING: First NFL Team Declares Bankruptcy Over Kneeling Thugs\n937349434668498944\t937379378006282240\t937380068590055425\t937384406511005696\t937387493451862016\t937400766024896512\t937406789686980608\t937411332240011266\t937415066810503168\t937427631661768704\t937429898670600192\t937436145004302337\t937438119468699648\t937449906352152576\t937450317142286336\t937451599320027136\t937452013939494912\t937452151227510784\t937453119478423553\t937462176293437443\t937468710952013824\t937471159246950401\t937473844813508609\t937474875861749760\t937481780088598528\t937485222257586177\t937491440082522117\t937491843851231232\t937493781271732229\t937494245883068421\t937506043604750338\t937506080694947840\t937508442352373760\t937510057322995712\t937520724453089280\t937520726369816576\t937521928738185216\t937522668303147010\t937522695339638785\t937524138121478144\t937526251027402753\t937541294951411712\t937542730162540544\t937543928844374016\t937567120220618752\t937616001570672640\t937628495865196544\t937688299757588485\t937692378604941317\t937693047458025474\t937696540453466112\t937703980158935040\t937737858726744064\t937738398080622592\t937739985113018368\t937742668393734145\t937749996098555911\t937756485630808065\t937757406129479682\t937764315544907782\t937764314500476929\t937787346019340288\t937787353824931840\t937798800453918723\t937808118695608320\t937813631281934337\t937832949453590528\t937842520364584960\t937845355282075650\t937845358650101761\t937855193483501568\t937856552660295680\t937864937820639239\t937870723078639616\t937900837086597120\t937913933414981632\t937920200514703366\t937929101620404224\t937936039510990848\t938008154125885440\t938068477276860416\t938079298157760512\t938100808083738624\t938103147054161920\t938165596730134528\t938196044285923328\t938211896431448064\t938289136703823872\t938353893443977216\t938362786287058944\t938600814914031616\t938620649215528960\t938776353049939968\t938946906444660737\t938988970653786112\t939053016010735616\t939089302167973888\t939272833427034112\t939272836887261186\t939445960865968128\t939461705528168448\t939468815628488707\t939985451036938245\t940980953299783680\t940987185859383296\t941026788964102144\t941044474905423872\t941080636852523013\t941471287054094337\t941829442665553920\t942182775024734208\t942369156254576641\t942421857634004998\t942750575267106817\t942966219799515136\t944057586374103045\t944202537976156160\t944582624282120193\t945092931844804608\t946194743779717122\t946570019860897792\t946901429112967168\t946913385211465728\t946917851243393024\t946935469216059393\t947133585886269440\t952689244400734208\t952709650444668928\t952727017983705089\t953420038819733504\t957810295442956288\t957848606215737344\t958020350599577600\t959618726734655488\t959796911778693120\t959850069037109250\t959953238807126016\t959970102962683905\t960005452980523009\t960161342651998208\t960208102820859904\t960215718905118720\t960215720071188480\t960215758809845760\t960225064590327808\t960241750102159361\t960536863793655809\t960565604305350657\t960596323207696384\t960639325242347520\t960872764889550848\t960912756093353984\t960935344068841472\t960944324107276294\t960967219365797888\t961021342375202817\t961049817886707712\t961049833208532995\t961081215678930944\t961355701321904128\t961355708750090240\t961639675277529094\t1027743374357536768\n"
     ]
    }
   ],
   "source": [
    "politifact_example = politifact_fake.iloc[0]\n",
    "print(politifact_example.id)\n",
    "print(politifact_example.news_url)\n",
    "print(politifact_example.title)\n",
    "print(politifact_example.tweet_ids)"
   ]
  },
  {
   "cell_type": "code",
   "execution_count": 9,
   "metadata": {},
   "outputs": [
    {
     "output_type": "stream",
     "name": "stdout",
     "text": [
      "gossipcop-2493749932\nwww.dailymail.co.uk/tvshowbiz/article-5874213/Did-Miley-Cyrus-Liam-Hemsworth-secretly-married.html\nDid Miley Cyrus and Liam Hemsworth secretly get married?\n284329075902926848\t284332744559968256\t284335412590297089\t284359918792880128\t284385385151332353\t284456388833452032\t284644878267318273\t284656558963564545\t284705391965794304\t284705391957401601\t284762425553723392\t284766089827721217\t284769766806257664\t284769769490620416\t284769775442337792\t284769772980301824\t284769778655186944\t284769777073917952\t284771913753042944\t284902943201837056\t284918939975303169\t285592266716884993\t285635421872979969\t285635516924301313\t285731324101287937\t295954533555793920\t296639632710459392\t296651276626825216\t700137152143699968\t700501642412560384\t700599457767890944\t700925213031141376\t757598980373045248\t757614017808437248\t757810204448743425\t757855454886293504\t818454872299163649\t818532208990371841\t818622382524997632\t818623644737871872\t824328059335692290\t840237926642536449\t840277988067430400\t840305556736872448\t840312641042104320\t840320383437877248\t840321378150670336\t840325449389600768\t840346792671698945\t840359115754999810\t840359140119699457\t840366459675062274\t840396881586982912\t840413370650050560\t840440847527116800\t840444299732910080\t840462550135365633\t841849268646338560\t849678041055887360\t925851191560556544\t927426728653230080\t927531012212457473\t927588875576528897\t927588875551363072\t927589121190760449\t927606510406029314\t928442019529162752\t928532613056352256\t928653424752758784\t953201937574342658\t953336408650993664\t953692192064884737\t953999445384888321\t954307670344916992\t1010039778891452416\t1010184150970654720\t1010184410115727361\t1010191444617752576\t1010229013908992000\t1010262428670709766\t1010334767701561344\t1010393809144799232\t1010418444016259072\t1011127764261396481\t1013723578834014208\t1013723601571340291\t1013723813685669889\t1016000562893123584\t1016431705132093440\t1036444296348663808\t1060594707447853058\t1060595446488358912\t1060679502240436224\t1060683397649952770\t1060708573590773761\t1060722227237318656\t1060812126200258560\n"
     ]
    }
   ],
   "source": [
    "gossipcop_example = gossipcop_fake.iloc[0]\n",
    "print(gossipcop_example.id)\n",
    "print(gossipcop_example.news_url)\n",
    "print(gossipcop_example.title)\n",
    "print(gossipcop_example.tweet_ids)"
   ]
  },
  {
   "source": [
    "## converting the string of tweet ids to a list"
   ],
   "cell_type": "markdown",
   "metadata": {}
  },
  {
   "cell_type": "code",
   "execution_count": 10,
   "metadata": {},
   "outputs": [],
   "source": [
    "politifact_fake['tweet_ids'] = politifact_fake.tweet_ids.str.split('\\t')\n",
    "politifact_real['tweet_ids'] = politifact_real.tweet_ids.str.split('\\t')\n",
    "gossipcop_fake['tweet_ids'] = gossipcop_fake.tweet_ids.str.split('\\t')\n",
    "gossipcop_real['tweet_ids'] = gossipcop_real.tweet_ids.str.split('\\t')\n"
   ]
  },
  {
   "source": [
    "## average number of tweets per story"
   ],
   "cell_type": "markdown",
   "metadata": {}
  },
  {
   "cell_type": "code",
   "execution_count": 11,
   "metadata": {},
   "outputs": [],
   "source": [
    "politifact_fake.number_of_tweets = politifact_fake.tweet_ids.str.len()\n",
    "politifact_fake_avg = round(politifact_fake.number_of_tweets.mean(),2)\n",
    "\n",
    "politifact_real.number_of_tweets = politifact_real.tweet_ids.str.len()\n",
    "politifact_real_avg = round(politifact_real.number_of_tweets.mean(),2)\n",
    "\n",
    "gossipcop_fake.number_of_tweets = gossipcop_fake.tweet_ids.str.len()\n",
    "gossipcop_fake_avg = round(gossipcop_fake.number_of_tweets.mean(),2)\n",
    "\n",
    "gossipcop_real.number_of_tweets = gossipcop_real.tweet_ids.str.len()\n",
    "gossipcop_real_avg = round(gossipcop_real.number_of_tweets.mean(),2)\n"
   ]
  },
  {
   "cell_type": "code",
   "execution_count": 12,
   "metadata": {},
   "outputs": [
    {
     "output_type": "stream",
     "name": "stdout",
     "text": [
      "politifact fake 424.79\npolitifact real 1064.99\ngossipcop fake 118.36\ngossipcop real 55.83\n"
     ]
    }
   ],
   "source": [
    "print(\"politifact fake \" + str(politifact_fake_avg))\n",
    "print(\"politifact real \" + str(politifact_real_avg))\n",
    "print(\"gossipcop fake \" + str(gossipcop_fake_avg))\n",
    "print(\"gossipcop real \" + str(gossipcop_real_avg))"
   ]
  },
  {
   "source": [
    "## twitter API stuff"
   ],
   "cell_type": "markdown",
   "metadata": {}
  },
  {
   "cell_type": "code",
   "execution_count": 13,
   "metadata": {},
   "outputs": [],
   "source": [
    "consumer_key = \"SfH6LhmYyWltgdlTFuEm3ODvr\"\n",
    "consumer_secret = \"WfzZyfovKaKuhjPV1EGGlTF9ha5zxuTGjIQIgdQ96GicdLyfxY\"\n",
    "access_token = \"1311486910322286592-yXQQ8l6IPmexbdK5gBgGGyo3QL7ZVR\"\n",
    "access_token_secret = \"U84aUFUgge2MLonznCKd3bodRedwT8bBi4NO6fAe2sHhP\"\n",
    "\n",
    "auth = tweepy.OAuthHandler(consumer_key, consumer_secret)\n",
    "auth.set_access_token(access_token, access_token_secret)\n",
    "\n",
    "# error experienced \n",
    "# RateLimitError: [{'message': 'Rate limit exceeded', 'code': 88}]\n",
    "api = tweepy.API(auth, wait_on_rate_limit = True)"
   ]
  },
  {
   "source": [
    "## function for getting less than 100 tweets (API limit is 100 tweets at a time)"
   ],
   "cell_type": "markdown",
   "metadata": {}
  },
  {
   "cell_type": "code",
   "execution_count": 31,
   "metadata": {},
   "outputs": [],
   "source": [
    "def get_tweets_small(row_data, number_of_tweets = False):\n",
    "    # attributes destruuctured \n",
    "    news_id = row_data.id \n",
    "    news_url = row_data.news_url\n",
    "    title = row_data.title\n",
    "    id_list = row_data.tweet_ids\n",
    "    # lists to store values in \n",
    "    tweet_ids_list = []\n",
    "    username_list = []\n",
    "    text_list = []\n",
    "    reply_list = [] \n",
    "    # repeated data\n",
    "    news_id_list = []\n",
    "    news_url_list = []\n",
    "    title_list = [] \n",
    "    if number_of_tweets:\n",
    "        # if (len(row_data.tweet_ids) > number_of_tweets + 1):\n",
    "        id_list = row_data.tweet_ids[:number_of_tweets + 1]\n",
    "    try:\n",
    "        result = api.statuses_lookup(id_ = id_list)\n",
    "    except:\n",
    "        print(\"error\")\n",
    "        return\n",
    "    for status in result:\n",
    "        # this is the ID for each individual tweet\n",
    "        tweet_id = status.id\n",
    "        tweet_ids_list.append(tweet_id)\n",
    "        # username for each individual tweet\n",
    "        username = status.user.screen_name \n",
    "        username_list.append(username)\n",
    "        # text value for each individual tweet\n",
    "        text = status.text\n",
    "        text_list.append(text)\n",
    "        # \n",
    "        reply = status.in_reply_to_status_id_str\n",
    "        if reply is None:\n",
    "            reply_list.append(False)\n",
    "        else:\n",
    "            reply_list.append(True)\n",
    "        # these are repeated values: news_id, news_url and title will be the same for all tweets associated with a particular news story (row) \n",
    "        news_id_list.append(news_id)\n",
    "        news_url_list.append(news_url)\n",
    "        title_list.append(title)\n",
    "    data = {\"news_id\": news_id_list, \"news_url\": news_url_list, \"title\": title_list, \"tweet_id\": tweet_ids_list, \"username\": username_list, \"text\": text_list, \"reply\": reply_list}\n",
    "    return pd.DataFrame(data)\n",
    "\n",
    "\n",
    "\n"
   ]
  },
  {
   "source": [
    "## function for getting more than 100 tweets"
   ],
   "cell_type": "markdown",
   "metadata": {}
  },
  {
   "cell_type": "code",
   "execution_count": 32,
   "metadata": {},
   "outputs": [],
   "source": [
    "def get_tweets_large(row_data, number_of_tweets = False):\n",
    "    # attributes destruuctured \n",
    "    news_id = row_data.id \n",
    "    news_url = row_data.news_url\n",
    "    title = row_data.title\n",
    "    id_list = row_data.tweet_ids\n",
    "    # lists to store values in \n",
    "    tweet_ids_list = []\n",
    "    username_list = []\n",
    "    text_list = []\n",
    "    news_id_list = []\n",
    "    news_url_list = []\n",
    "    title_list = []\n",
    "    reply_list = []\n",
    "\n",
    "    if number_of_tweets:\n",
    "        if number_of_tweets <= 100: \n",
    "            return get_tweets_small(row_data, number_of_tweets)\n",
    "        else:\n",
    "            row_data.tweet_ids = row_data.tweet_ids[:number_of_tweets + 1]\n",
    "            i = len(row_data.tweet_ids) // 100\n",
    "            tweet_subset = row_data.tweet_ids[:99]\n",
    "\n",
    "    else: \n",
    "        i = len(row_data.tweet_ids) // 100\n",
    "        tweet_subset = row_data.tweet_ids[:99]\n",
    "    \n",
    "\n",
    "    for j in range(i):\n",
    "        tweet_subset = row_data.tweet_ids[j*100:j*100+99]\n",
    "        try:\n",
    "            result = api.statuses_lookup(tweet_subset)\n",
    "        except:\n",
    "            print(\"error\")\n",
    "            return\n",
    "        for status in result:\n",
    "            # this is the ID for each individual tweet\n",
    "            tweet_id = status.id\n",
    "            tweet_ids_list.append(tweet_id)\n",
    "            # username for each individual tweet\n",
    "            username = status.user.screen_name \n",
    "            username_list.append(username)\n",
    "            # text value for each individual tweet\n",
    "            text = status.text\n",
    "            text_list.append(text)\n",
    "            # \n",
    "            reply = status.in_reply_to_status_id_str\n",
    "            if reply is None:\n",
    "                reply_list.append(False)\n",
    "            else:\n",
    "                reply_list.append(True)\n",
    "            # these are repeated values: news_id, news_url and title will be the same for all tweets associated with a particular news story (row) \n",
    "            news_id_list.append(news_id)\n",
    "            news_url_list.append(news_url)\n",
    "            title_list.append(title)\n",
    "    data = {\"news_id\": news_id_list, \"news_url\": news_url_list, \"title\": title_list, \"tweet_id\": tweet_ids_list, \"username\": username_list, \"text\": text_list, \"reply\": reply_list}\n",
    "    return pd.DataFrame(data)"
   ]
  },
  {
   "source": [
    "## function to aggregate all data in the data frame"
   ],
   "cell_type": "markdown",
   "metadata": {}
  },
  {
   "cell_type": "code",
   "execution_count": 28,
   "metadata": {},
   "outputs": [],
   "source": [
    "def aggregate_data(df, name = \"test.csv\", number_of_tweets = False):\n",
    "    # to see what row is currently running\n",
    "    dh = display('',display_id=True)\n",
    "    # print(df.shape[0])\n",
    "    result = pd.DataFrame()\n",
    "    for row in df.iterrows():\n",
    "        # print(row[0])\n",
    "        dh.update(str(row[0]) + '/' + str(df.shape[0]))\n",
    "        row = row[1] # because iterrows() gives us a tuple (index, row) \n",
    "        if len(row.tweet_ids) <= 100:\n",
    "            df2 = get_tweets_small(row_data = row, number_of_tweets = number_of_tweets)\n",
    "        else:\n",
    "            df2 = get_tweets_large(row_data = row, number_of_tweets = number_of_tweets)\n",
    "            \n",
    "            \n",
    "        # df2 = get_all_tweets_single_news_story(row_data = row, number_of_tweets = number_of_tweets)\n",
    "        # print(row)\n",
    "        result = result.append(df2, ignore_index= True)\n",
    "    result.to_csv(name)\n",
    "    return result\n",
    "\n"
   ]
  },
  {
   "cell_type": "code",
   "execution_count": 17,
   "metadata": {},
   "outputs": [],
   "source": [
    "politifact_fake_all_data = aggregate_data(politifact_fake, name = \"politifact_fake_all_data.csv\")"
   ]
  },
  {
   "cell_type": "code",
   "execution_count": 18,
   "metadata": {},
   "outputs": [],
   "source": [
    "politifact_real_all_data = aggregate_data(politifact_real, name = \"politifact_real_all_data.csv\")"
   ]
  },
  {
   "cell_type": "code",
   "execution_count": 76,
   "metadata": {},
   "outputs": [],
   "source": [
    "gossipcop_fake_all_data = aggregate_data(gossipcop_fake, name = \"gossipcop_fake_all_data.csv\")\n"
   ]
  },
  {
   "cell_type": "code",
   "execution_count": 33,
   "metadata": {},
   "outputs": [
    {
     "output_type": "display_data",
     "data": {
      "text/plain": "''"
     },
     "metadata": {}
    },
    {
     "output_type": "stream",
     "name": "stdout",
     "text": [
      "error\n"
     ]
    }
   ],
   "source": [
    "gossipcop_real_all_data = aggregate_data(gossipcop_real, name = \"gossipcop_real_all_data.csv\", number_of_tweets=99)"
   ]
  },
  {
   "cell_type": "code",
   "execution_count": 43,
   "metadata": {},
   "outputs": [
    {
     "output_type": "execute_result",
     "data": {
      "text/plain": [
       "Index(['news_id', 'news_url', 'title', 'tweet_id', 'username', 'text',\n",
       "       'reply'],\n",
       "      dtype='object')"
      ]
     },
     "metadata": {},
     "execution_count": 43
    }
   ],
   "source": [
    "politifact_fake_all_data.columns"
   ]
  },
  {
   "cell_type": "code",
   "execution_count": 46,
   "metadata": {},
   "outputs": [
    {
     "output_type": "execute_result",
     "data": {
      "text/plain": [
       "(121114, 7)"
      ]
     },
     "metadata": {},
     "execution_count": 46
    }
   ],
   "source": [
    "politifact_fake_all_data.shape"
   ]
  },
  {
   "cell_type": "code",
   "execution_count": 47,
   "metadata": {},
   "outputs": [
    {
     "output_type": "execute_result",
     "data": {
      "text/plain": [
       "(306575, 7)"
      ]
     },
     "metadata": {},
     "execution_count": 47
    }
   ],
   "source": [
    "politifact_real_all_data.shape"
   ]
  },
  {
   "cell_type": "code",
   "execution_count": 49,
   "metadata": {},
   "outputs": [
    {
     "output_type": "execute_result",
     "data": {
      "text/plain": [
       "(426913, 7)"
      ]
     },
     "metadata": {},
     "execution_count": 49
    }
   ],
   "source": [
    "gossipcop_fake_all_data.shape"
   ]
  },
  {
   "cell_type": "code",
   "execution_count": 34,
   "metadata": {},
   "outputs": [
    {
     "output_type": "execute_result",
     "data": {
      "text/plain": [
       "(659250, 7)"
      ]
     },
     "metadata": {},
     "execution_count": 34
    }
   ],
   "source": [
    "gossipcop_real_all_data.shape"
   ]
  },
  {
   "source": [
    "## 2 examples per data frame"
   ],
   "cell_type": "markdown",
   "metadata": {}
  },
  {
   "cell_type": "code",
   "execution_count": 88,
   "metadata": {},
   "outputs": [
    {
     "output_type": "execute_result",
     "data": {
      "text/plain": [
       "           news_id                                   news_url  \\\n",
       "0  politifact15014  speedtalk.com/forum/viewtopic.php?t=51650   \n",
       "1  politifact15014  speedtalk.com/forum/viewtopic.php?t=51650   \n",
       "2  politifact15014  speedtalk.com/forum/viewtopic.php?t=51650   \n",
       "3  politifact15014  speedtalk.com/forum/viewtopic.php?t=51650   \n",
       "\n",
       "                                               title      tweet_id  \\\n",
       "0  BREAKING: First NFL Team Declares Bankruptcy O...  9.379139e+17   \n",
       "1  BREAKING: First NFL Team Declares Bankruptcy O...  9.377874e+17   \n",
       "2  BREAKING: First NFL Team Declares Bankruptcy O...  9.377500e+17   \n",
       "3  BREAKING: First NFL Team Declares Bankruptcy O...  9.377427e+17   \n",
       "\n",
       "      username                                               text  reply  \n",
       "0  NEPTUNE1X2X  BREAKING: First NFL Team Declares Bankruptcy O...    0.0  \n",
       "1    lumpy3148  BREAKING: First NFL Team Declares Bankruptcy O...    0.0  \n",
       "2   Mmarty1230  BREAKING: First NFL Team Declares Bankruptcy O...    0.0  \n",
       "3    kin2souls  BREAKING: First NFL Team Declares Bankruptcy O...    0.0  "
      ],
      "text/html": "<div>\n<style scoped>\n    .dataframe tbody tr th:only-of-type {\n        vertical-align: middle;\n    }\n\n    .dataframe tbody tr th {\n        vertical-align: top;\n    }\n\n    .dataframe thead th {\n        text-align: right;\n    }\n</style>\n<table border=\"1\" class=\"dataframe\">\n  <thead>\n    <tr style=\"text-align: right;\">\n      <th></th>\n      <th>news_id</th>\n      <th>news_url</th>\n      <th>title</th>\n      <th>tweet_id</th>\n      <th>username</th>\n      <th>text</th>\n      <th>reply</th>\n    </tr>\n  </thead>\n  <tbody>\n    <tr>\n      <th>0</th>\n      <td>politifact15014</td>\n      <td>speedtalk.com/forum/viewtopic.php?t=51650</td>\n      <td>BREAKING: First NFL Team Declares Bankruptcy O...</td>\n      <td>9.379139e+17</td>\n      <td>NEPTUNE1X2X</td>\n      <td>BREAKING: First NFL Team Declares Bankruptcy O...</td>\n      <td>0.0</td>\n    </tr>\n    <tr>\n      <th>1</th>\n      <td>politifact15014</td>\n      <td>speedtalk.com/forum/viewtopic.php?t=51650</td>\n      <td>BREAKING: First NFL Team Declares Bankruptcy O...</td>\n      <td>9.377874e+17</td>\n      <td>lumpy3148</td>\n      <td>BREAKING: First NFL Team Declares Bankruptcy O...</td>\n      <td>0.0</td>\n    </tr>\n    <tr>\n      <th>2</th>\n      <td>politifact15014</td>\n      <td>speedtalk.com/forum/viewtopic.php?t=51650</td>\n      <td>BREAKING: First NFL Team Declares Bankruptcy O...</td>\n      <td>9.377500e+17</td>\n      <td>Mmarty1230</td>\n      <td>BREAKING: First NFL Team Declares Bankruptcy O...</td>\n      <td>0.0</td>\n    </tr>\n    <tr>\n      <th>3</th>\n      <td>politifact15014</td>\n      <td>speedtalk.com/forum/viewtopic.php?t=51650</td>\n      <td>BREAKING: First NFL Team Declares Bankruptcy O...</td>\n      <td>9.377427e+17</td>\n      <td>kin2souls</td>\n      <td>BREAKING: First NFL Team Declares Bankruptcy O...</td>\n      <td>0.0</td>\n    </tr>\n  </tbody>\n</table>\n</div>"
     },
     "metadata": {},
     "execution_count": 88
    }
   ],
   "source": [
    "# politifact fake\n",
    "politifact_fake_all_data.iloc[0:4]"
   ]
  },
  {
   "cell_type": "code",
   "execution_count": 92,
   "metadata": {},
   "outputs": [
    {
     "output_type": "stream",
     "name": "stdout",
     "text": [
      "BREAKING: First NFL Team Declares Bankruptcy Over Kneeling Thugs\nBREAKING: First NFL Team Declares Bankruptcy Over Kneeling Thugs\n"
     ]
    }
   ],
   "source": [
    "print(politifact_fake_all_data.title.iloc[0])\n",
    "print(politifact_fake_all_data.title.iloc[1])"
   ]
  },
  {
   "cell_type": "code",
   "execution_count": 94,
   "metadata": {},
   "outputs": [
    {
     "output_type": "stream",
     "name": "stdout",
     "text": [
      "BREAKING: First NFL Team Declares Bankruptcy Over Kneeling Thugs – ChristmasGifts https://t.co/WkwXW7pGST\n\nWriter h… https://t.co/tebSFM2HLo\nBREAKING: First NFL Team Declares Bankruptcy Over Kneeling Thugs https://t.co/UrN2v66Pk6\nBREAKING: First NFL Team Declares Bankruptcy Over Kneeling Thugs https://t.co/2BBPgpCTi6 YES YES YES ABOUT TIME !!!… https://t.co/OW7T4lskBw\nBREAKING: First NFL Team Declares Bankruptcy Over Kneeling Thugs https://t.co/0A07NXju0t\n"
     ]
    }
   ],
   "source": [
    "print(politifact_fake_all_data.text.iloc[0])\n",
    "print(politifact_fake_all_data.text.iloc[1])\n",
    "print(politifact_fake_all_data.text.iloc[2])\n",
    "print(politifact_fake_all_data.text.iloc[3])"
   ]
  },
  {
   "source": [
    "## second example"
   ],
   "cell_type": "markdown",
   "metadata": {}
  },
  {
   "cell_type": "code",
   "execution_count": 87,
   "metadata": {},
   "outputs": [
    {
     "output_type": "execute_result",
     "data": {
      "text/plain": [
       "               news_id                                           news_url  \\\n",
       "20000  politifact14548  https://www.house.gov/content/learn/legislativ...   \n",
       "20001  politifact14548  https://www.house.gov/content/learn/legislativ...   \n",
       "20002  politifact14548  https://www.house.gov/content/learn/legislativ...   \n",
       "20003  politifact14548  https://www.house.gov/content/learn/legislativ...   \n",
       "\n",
       "                         title      tweet_id        username  \\\n",
       "20000  The Legislative Process  9.666566e+17  Remodel_Repair   \n",
       "20001  The Legislative Process  9.664556e+17     NLeszcynski   \n",
       "20002  The Legislative Process  9.663577e+17   ArabiaDeserta   \n",
       "20003  The Legislative Process  9.666048e+17          larryy   \n",
       "\n",
       "                                                    text  reply  \n",
       "20000  Filing update: Two more file for US House of R...    0.0  \n",
       "20001  @RepRyanCostello Also Costello is the only mem...    0.0  \n",
       "20002  @haaretzcom @jallawati He can become a better ...    1.0  \n",
       "20003  NY Republican in the US House of Representativ...    0.0  "
      ],
      "text/html": "<div>\n<style scoped>\n    .dataframe tbody tr th:only-of-type {\n        vertical-align: middle;\n    }\n\n    .dataframe tbody tr th {\n        vertical-align: top;\n    }\n\n    .dataframe thead th {\n        text-align: right;\n    }\n</style>\n<table border=\"1\" class=\"dataframe\">\n  <thead>\n    <tr style=\"text-align: right;\">\n      <th></th>\n      <th>news_id</th>\n      <th>news_url</th>\n      <th>title</th>\n      <th>tweet_id</th>\n      <th>username</th>\n      <th>text</th>\n      <th>reply</th>\n    </tr>\n  </thead>\n  <tbody>\n    <tr>\n      <th>20000</th>\n      <td>politifact14548</td>\n      <td>https://www.house.gov/content/learn/legislativ...</td>\n      <td>The Legislative Process</td>\n      <td>9.666566e+17</td>\n      <td>Remodel_Repair</td>\n      <td>Filing update: Two more file for US House of R...</td>\n      <td>0.0</td>\n    </tr>\n    <tr>\n      <th>20001</th>\n      <td>politifact14548</td>\n      <td>https://www.house.gov/content/learn/legislativ...</td>\n      <td>The Legislative Process</td>\n      <td>9.664556e+17</td>\n      <td>NLeszcynski</td>\n      <td>@RepRyanCostello Also Costello is the only mem...</td>\n      <td>0.0</td>\n    </tr>\n    <tr>\n      <th>20002</th>\n      <td>politifact14548</td>\n      <td>https://www.house.gov/content/learn/legislativ...</td>\n      <td>The Legislative Process</td>\n      <td>9.663577e+17</td>\n      <td>ArabiaDeserta</td>\n      <td>@haaretzcom @jallawati He can become a better ...</td>\n      <td>1.0</td>\n    </tr>\n    <tr>\n      <th>20003</th>\n      <td>politifact14548</td>\n      <td>https://www.house.gov/content/learn/legislativ...</td>\n      <td>The Legislative Process</td>\n      <td>9.666048e+17</td>\n      <td>larryy</td>\n      <td>NY Republican in the US House of Representativ...</td>\n      <td>0.0</td>\n    </tr>\n  </tbody>\n</table>\n</div>"
     },
     "metadata": {},
     "execution_count": 87
    }
   ],
   "source": [
    "politifact_fake_all_data.iloc[20000:20004]"
   ]
  },
  {
   "cell_type": "code",
   "execution_count": 95,
   "metadata": {},
   "outputs": [
    {
     "output_type": "stream",
     "name": "stdout",
     "text": [
      "The Legislative Process\nThe Legislative Process\n"
     ]
    }
   ],
   "source": [
    "print(politifact_fake_all_data.title.iloc[20000])\n",
    "print(politifact_fake_all_data.title.iloc[20001])"
   ]
  },
  {
   "cell_type": "code",
   "execution_count": 99,
   "metadata": {},
   "outputs": [
    {
     "output_type": "stream",
     "name": "stdout",
     "text": [
      "Filing update: Two more file for US House of Representatives https://t.co/ftZImrU8dB\n@RepRyanCostello Also Costello is the only member of the US House of Representatives to support the PA state GOP ca… https://t.co/bBVBO5sELP\n@haaretzcom @jallawati He can become a better #Speaker of the US House of Representatives....... by acclamation....… https://t.co/4BgSRW6Ojc\nNY Republican in the US House of Representatives says \"so many of these people that commit the mass murders end... https://t.co/dmsheFE7Kc\n"
     ]
    }
   ],
   "source": [
    "print(politifact_fake_all_data.text.iloc[20000])\n",
    "print(politifact_fake_all_data.text.iloc[20001])\n",
    "print(politifact_fake_all_data.text.iloc[20002])\n",
    "print(politifact_fake_all_data.text.iloc[20003])"
   ]
  },
  {
   "cell_type": "code",
   "execution_count": 101,
   "metadata": {},
   "outputs": [],
   "source": [
    "leg_process = politifact_fake_all_data[(politifact_fake_all_data.title == \"The Legislative Process\")]"
   ]
  },
  {
   "cell_type": "code",
   "execution_count": 102,
   "metadata": {},
   "outputs": [
    {
     "output_type": "execute_result",
     "data": {
      "text/plain": [
       "(22406, 7)"
      ]
     },
     "metadata": {},
     "execution_count": 102
    }
   ],
   "source": [
    "leg_process.shape"
   ]
  },
  {
   "cell_type": "code",
   "execution_count": 103,
   "metadata": {},
   "outputs": [
    {
     "output_type": "execute_result",
     "data": {
      "text/plain": [
       "               news_id                                           news_url  \\\n",
       "18468  politifact14548  https://www.house.gov/content/learn/legislativ...   \n",
       "18469  politifact14548  https://www.house.gov/content/learn/legislativ...   \n",
       "18470  politifact14548  https://www.house.gov/content/learn/legislativ...   \n",
       "18471  politifact14548  https://www.house.gov/content/learn/legislativ...   \n",
       "18472  politifact14548  https://www.house.gov/content/learn/legislativ...   \n",
       "\n",
       "                         title      tweet_id         username  \\\n",
       "18468  The Legislative Process  9.555517e+17   KSOOSiouxFalls   \n",
       "18469  The Legislative Process  9.555543e+17  AnnieOakley2015   \n",
       "18470  The Legislative Process  9.555683e+17  cowomenschamber   \n",
       "18471  The Legislative Process  9.555919e+17    EliotPattison   \n",
       "18472  The Legislative Process  9.551452e+17      MackSheriff   \n",
       "\n",
       "                                                    text  reply  \n",
       "18468  Lalley: There was a panel of the candidates wh...    0.0  \n",
       "18469  Admiration for Lisa Ring’s Support for our mil...    0.0  \n",
       "18470  She is a sixth-generation Coloradan. She is th...    0.0  \n",
       "18471  #Tibet raised in US House of Representatives d...    0.0  \n",
       "18472  https://t.co/91Ucx9l5RG\\nSheriff Richard Mack ...    0.0  "
      ],
      "text/html": "<div>\n<style scoped>\n    .dataframe tbody tr th:only-of-type {\n        vertical-align: middle;\n    }\n\n    .dataframe tbody tr th {\n        vertical-align: top;\n    }\n\n    .dataframe thead th {\n        text-align: right;\n    }\n</style>\n<table border=\"1\" class=\"dataframe\">\n  <thead>\n    <tr style=\"text-align: right;\">\n      <th></th>\n      <th>news_id</th>\n      <th>news_url</th>\n      <th>title</th>\n      <th>tweet_id</th>\n      <th>username</th>\n      <th>text</th>\n      <th>reply</th>\n    </tr>\n  </thead>\n  <tbody>\n    <tr>\n      <th>18468</th>\n      <td>politifact14548</td>\n      <td>https://www.house.gov/content/learn/legislativ...</td>\n      <td>The Legislative Process</td>\n      <td>9.555517e+17</td>\n      <td>KSOOSiouxFalls</td>\n      <td>Lalley: There was a panel of the candidates wh...</td>\n      <td>0.0</td>\n    </tr>\n    <tr>\n      <th>18469</th>\n      <td>politifact14548</td>\n      <td>https://www.house.gov/content/learn/legislativ...</td>\n      <td>The Legislative Process</td>\n      <td>9.555543e+17</td>\n      <td>AnnieOakley2015</td>\n      <td>Admiration for Lisa Ring’s Support for our mil...</td>\n      <td>0.0</td>\n    </tr>\n    <tr>\n      <th>18470</th>\n      <td>politifact14548</td>\n      <td>https://www.house.gov/content/learn/legislativ...</td>\n      <td>The Legislative Process</td>\n      <td>9.555683e+17</td>\n      <td>cowomenschamber</td>\n      <td>She is a sixth-generation Coloradan. She is th...</td>\n      <td>0.0</td>\n    </tr>\n    <tr>\n      <th>18471</th>\n      <td>politifact14548</td>\n      <td>https://www.house.gov/content/learn/legislativ...</td>\n      <td>The Legislative Process</td>\n      <td>9.555919e+17</td>\n      <td>EliotPattison</td>\n      <td>#Tibet raised in US House of Representatives d...</td>\n      <td>0.0</td>\n    </tr>\n    <tr>\n      <th>18472</th>\n      <td>politifact14548</td>\n      <td>https://www.house.gov/content/learn/legislativ...</td>\n      <td>The Legislative Process</td>\n      <td>9.551452e+17</td>\n      <td>MackSheriff</td>\n      <td>https://t.co/91Ucx9l5RG\\nSheriff Richard Mack ...</td>\n      <td>0.0</td>\n    </tr>\n  </tbody>\n</table>\n</div>"
     },
     "metadata": {},
     "execution_count": 103
    }
   ],
   "source": [
    "leg_process.head()"
   ]
  },
  {
   "cell_type": "code",
   "execution_count": 106,
   "metadata": {},
   "outputs": [
    {
     "output_type": "execute_result",
     "data": {
      "text/plain": [
       "               news_id                                           news_url  \\\n",
       "40869  politifact14548  https://www.house.gov/content/learn/legislativ...   \n",
       "40870  politifact14548  https://www.house.gov/content/learn/legislativ...   \n",
       "40871  politifact14548  https://www.house.gov/content/learn/legislativ...   \n",
       "40872  politifact14548  https://www.house.gov/content/learn/legislativ...   \n",
       "40873  politifact14548  https://www.house.gov/content/learn/legislativ...   \n",
       "\n",
       "                         title      tweet_id        username  \\\n",
       "40869  The Legislative Process  1.073699e+18  americanproudd   \n",
       "40870  The Legislative Process  1.073906e+18       Swampjams   \n",
       "40871  The Legislative Process  1.073809e+18  Fuerza_Mundial   \n",
       "40872  The Legislative Process  1.073656e+18  mediainvestors   \n",
       "40873  The Legislative Process  1.073702e+18            CNET   \n",
       "\n",
       "                                                    text  reply  \n",
       "40869  U.S. House of Representatives: CPS and DHS : C...    0.0  \n",
       "40870  U.S. House of Representatives recommends impea...    0.0  \n",
       "40871  When the Democrats take over the U.S. House of...    0.0  \n",
       "40872  Do you see the word House in those 20 words? \\...    1.0  \n",
       "40873  .@NancyPelosi, @FrankPallone, @USRepMikeDoyle ...    0.0  "
      ],
      "text/html": "<div>\n<style scoped>\n    .dataframe tbody tr th:only-of-type {\n        vertical-align: middle;\n    }\n\n    .dataframe tbody tr th {\n        vertical-align: top;\n    }\n\n    .dataframe thead th {\n        text-align: right;\n    }\n</style>\n<table border=\"1\" class=\"dataframe\">\n  <thead>\n    <tr style=\"text-align: right;\">\n      <th></th>\n      <th>news_id</th>\n      <th>news_url</th>\n      <th>title</th>\n      <th>tweet_id</th>\n      <th>username</th>\n      <th>text</th>\n      <th>reply</th>\n    </tr>\n  </thead>\n  <tbody>\n    <tr>\n      <th>40869</th>\n      <td>politifact14548</td>\n      <td>https://www.house.gov/content/learn/legislativ...</td>\n      <td>The Legislative Process</td>\n      <td>1.073699e+18</td>\n      <td>americanproudd</td>\n      <td>U.S. House of Representatives: CPS and DHS : C...</td>\n      <td>0.0</td>\n    </tr>\n    <tr>\n      <th>40870</th>\n      <td>politifact14548</td>\n      <td>https://www.house.gov/content/learn/legislativ...</td>\n      <td>The Legislative Process</td>\n      <td>1.073906e+18</td>\n      <td>Swampjams</td>\n      <td>U.S. House of Representatives recommends impea...</td>\n      <td>0.0</td>\n    </tr>\n    <tr>\n      <th>40871</th>\n      <td>politifact14548</td>\n      <td>https://www.house.gov/content/learn/legislativ...</td>\n      <td>The Legislative Process</td>\n      <td>1.073809e+18</td>\n      <td>Fuerza_Mundial</td>\n      <td>When the Democrats take over the U.S. House of...</td>\n      <td>0.0</td>\n    </tr>\n    <tr>\n      <th>40872</th>\n      <td>politifact14548</td>\n      <td>https://www.house.gov/content/learn/legislativ...</td>\n      <td>The Legislative Process</td>\n      <td>1.073656e+18</td>\n      <td>mediainvestors</td>\n      <td>Do you see the word House in those 20 words? \\...</td>\n      <td>1.0</td>\n    </tr>\n    <tr>\n      <th>40873</th>\n      <td>politifact14548</td>\n      <td>https://www.house.gov/content/learn/legislativ...</td>\n      <td>The Legislative Process</td>\n      <td>1.073702e+18</td>\n      <td>CNET</td>\n      <td>.@NancyPelosi, @FrankPallone, @USRepMikeDoyle ...</td>\n      <td>0.0</td>\n    </tr>\n  </tbody>\n</table>\n</div>"
     },
     "metadata": {},
     "execution_count": 106
    }
   ],
   "source": [
    "leg_process.tail()"
   ]
  },
  {
   "cell_type": "code",
   "execution_count": 114,
   "metadata": {},
   "outputs": [
    {
     "output_type": "stream",
     "name": "stdout",
     "text": [
      "Lalley: There was a panel of the candidates who want to fill the open seat for US House of Representatives. Tapio w… https://t.co/ks9EClrJRe\nWhy is an official committee in the US House of Representatives making a blatant attack on “liberals“, and also den… https://t.co/BMOBa7IJhK\nMORE A nearly six-hour #shutdown of the US government has ended after the House of Representatives approved a Senat… https://t.co/PStQ1q78Wp\nUS midterms: Democrats retake control of House of Representatives, Republicans retain Senate - Times of India… https://t.co/Z6vbRwblou\n"
     ]
    }
   ],
   "source": [
    "print(leg_process.text.iloc[0])\n",
    "print(leg_process.text.iloc[100])\n",
    "print(leg_process.text.iloc[1000])\n",
    "print(leg_process.text.iloc[20000])"
   ]
  },
  {
   "source": [
    "## politifact real news examples"
   ],
   "cell_type": "markdown",
   "metadata": {}
  },
  {
   "cell_type": "code",
   "execution_count": 118,
   "metadata": {},
   "outputs": [
    {
     "output_type": "execute_result",
     "data": {
      "text/plain": [
       "\"Donald Trump exaggerates when he says China has 'total control' over North Korea\""
      ]
     },
     "metadata": {},
     "execution_count": 118
    }
   ],
   "source": [
    "# first example\n",
    "politifact_real_all_data.iloc[1000].title"
   ]
  },
  {
   "cell_type": "code",
   "execution_count": 119,
   "metadata": {},
   "outputs": [],
   "source": [
    "trump = politifact_real_all_data[politifact_real_all_data.title == \n",
    "\"Donald Trump exaggerates when he says China has 'total control' over North Korea\"]"
   ]
  },
  {
   "cell_type": "code",
   "execution_count": 120,
   "metadata": {},
   "outputs": [
    {
     "output_type": "execute_result",
     "data": {
      "text/plain": [
       "(26, 7)"
      ]
     },
     "metadata": {},
     "execution_count": 120
    }
   ],
   "source": [
    "trump.shape"
   ]
  },
  {
   "cell_type": "code",
   "execution_count": 124,
   "metadata": {},
   "outputs": [
    {
     "output_type": "stream",
     "name": "stdout",
     "text": [
      "Donald Trump exaggerates when he says China has 'total control' over North Korea https://t.co/d4hJDW2IAV via @PolitiFact\nDonald Trump exaggerates when he says China has 'total control' over North Korea https://t.co/bRz2Dn3kPd\nDonald Trump exaggerates when he says China has 'total control' over North Korea https://t.co/qvkR3edC17 via @PolitiFact\nDonald Trump exaggerates when he says China has 'total control' over North Korea | PolitiFact https://t.co/JyPrU5qLZr\n"
     ]
    }
   ],
   "source": [
    "print(trump.text.iloc[0])\n",
    "print(trump.text.iloc[1])\n",
    "print(trump.text.iloc[2])\n",
    "print(trump.text.iloc[25])"
   ]
  },
  {
   "cell_type": "code",
   "execution_count": 140,
   "metadata": {},
   "outputs": [
    {
     "output_type": "execute_result",
     "data": {
      "text/plain": [
       "'School kids taught to praise Obama'"
      ]
     },
     "metadata": {},
     "execution_count": 140
    }
   ],
   "source": [
    "# second example\n",
    "obama_title = politifact_real_all_data.iloc[45000].title\n",
    "obama_title"
   ]
  },
  {
   "cell_type": "code",
   "execution_count": 141,
   "metadata": {},
   "outputs": [],
   "source": [
    "obama = politifact_real_all_data[politifact_real_all_data.title == obama_title]"
   ]
  },
  {
   "cell_type": "code",
   "execution_count": 142,
   "metadata": {},
   "outputs": [
    {
     "output_type": "execute_result",
     "data": {
      "text/plain": [
       "(1126, 7)"
      ]
     },
     "metadata": {},
     "execution_count": 142
    }
   ],
   "source": [
    "obama.shape"
   ]
  },
  {
   "cell_type": "code",
   "execution_count": 148,
   "metadata": {},
   "outputs": [
    {
     "output_type": "stream",
     "name": "stdout",
     "text": [
      "School kids taught to praise Obama http://bit.ly/14qgjF\n@glennbeck you have got to see this School kids taught to praise Obama http://bit.ly/VAcfC\nYouTube: School kids taught to praise Obama (video) #whitehouse #barackobama http://bit.ly/TvQtR\nSchool kids taught to praise Obama http://tinyurl.com/l4sovj #912 #glennbeck #teaparty #tcot\nRT @terresamonroe: School kids taught to praise Obama http://tinyurl.com/l4sovj #dc912 #liberty #tlot #gop #accdf #obamafail\n"
     ]
    }
   ],
   "source": [
    "print(obama.text.iloc[1])\n",
    "print(obama.text.iloc[2])\n",
    "print(obama.text.iloc[3])\n",
    "print(obama.text.iloc[4])\n",
    "print(obama.text.iloc[5])"
   ]
  },
  {
   "source": [
    "## gossipcop fake examples"
   ],
   "cell_type": "markdown",
   "metadata": {}
  },
  {
   "cell_type": "code",
   "execution_count": 150,
   "metadata": {},
   "outputs": [
    {
     "output_type": "execute_result",
     "data": {
      "text/plain": [
       "'Miley Cyrus Claims ‘Satan Is A Nice Guy; He’s Misunderstood’'"
      ]
     },
     "metadata": {},
     "execution_count": 150
    }
   ],
   "source": [
    "title = gossipcop_fake_all_data.title.iloc[400]\n",
    "title"
   ]
  },
  {
   "cell_type": "code",
   "execution_count": 151,
   "metadata": {},
   "outputs": [],
   "source": [
    "data = gossipcop_fake_all_data[gossipcop_fake_all_data.title == title]"
   ]
  },
  {
   "cell_type": "code",
   "execution_count": 152,
   "metadata": {},
   "outputs": [
    {
     "output_type": "execute_result",
     "data": {
      "text/plain": [
       "(76, 7)"
      ]
     },
     "metadata": {},
     "execution_count": 152
    }
   ],
   "source": [
    "data.shape"
   ]
  },
  {
   "cell_type": "code",
   "execution_count": 154,
   "metadata": {},
   "outputs": [
    {
     "output_type": "stream",
     "name": "stdout",
     "text": [
      "Miley Cyrus Claims ‘Satan Is A Nice Guy; He’s Misunderstood’ The reptilius at work! https://t.co/160VD40DFW\nMiley Cyrus Claims 'Satan Is A Nice Guy; He's Misunderstood' https://t.co/BoBG9OLmQK\nMiley Cyrus Claims 'Satan Is A Nice Guy; He's Misunderstood' https://t.co/5Rm1RFoJ8l via @yournewswire\nMiley Cyrus Claims 'Satan Is A Nice Guy; He's Misunderstood' https://t.co/7ysYiZTaqF\nMiley Cyrus Claims ‘Satan Is A Nice Guy; He’s Misunderstood’ – Anonymous Portugal Internacional https://t.co/4lzwdZU5Gn via @Anonymous_API\n"
     ]
    }
   ],
   "source": [
    "print(data.text.iloc[0])\n",
    "print(data.text.iloc[1])\n",
    "print(data.text.iloc[2])\n",
    "print(data.text.iloc[3])\n",
    "print(data.text.iloc[4])\n"
   ]
  },
  {
   "cell_type": "code",
   "execution_count": 155,
   "metadata": {},
   "outputs": [
    {
     "output_type": "execute_result",
     "data": {
      "text/plain": [
       "\"'Stranger Things' Creators Go Inside Season 2's Heartbreaking Death\""
      ]
     },
     "metadata": {},
     "execution_count": 155
    }
   ],
   "source": [
    "# second example\n",
    "title = gossipcop_fake_all_data.title.iloc[50000]\n",
    "title"
   ]
  },
  {
   "cell_type": "code",
   "execution_count": 156,
   "metadata": {},
   "outputs": [],
   "source": [
    "data = gossipcop_fake_all_data[gossipcop_fake_all_data.title == title]"
   ]
  },
  {
   "cell_type": "code",
   "execution_count": 157,
   "metadata": {},
   "outputs": [
    {
     "output_type": "stream",
     "name": "stdout",
     "text": [
      "... und dann siehst du mitten im Wald diesen kleinen Teich, der in seiner Mitte unheimlich zu leuchten scheint. Im… https://t.co/2M1Bv8VKbZ\n@RRRockstah Wie ich die Mischung aus Stranger Things Intro, schönem Beat und von und zu Nachtsheims Lyrics und Voca… https://t.co/Fnr07UqTNG\nwill and eleven are gonna die in season 3 stranger things, remember this tweet 🤞🏾\n@cedrikn2000 Haus des Geldes interessiert mich nicht. Stranger Things hab ich durch. Genauso wie riverdale (bin geh… https://t.co/BqGy0dq5Cn\n#MillieBobbyBrown hat für die Entwicklung von #Eleven in #StrangerThings ganz eigene Ideen #Netflix \nhttps://t.co/4jVgh3Z41U\n"
     ]
    }
   ],
   "source": [
    "print(data.text.iloc[0])\n",
    "print(data.text.iloc[1])\n",
    "print(data.text.iloc[2])\n",
    "print(data.text.iloc[3])\n",
    "print(data.text.iloc[4])"
   ]
  },
  {
   "source": [
    "## gossipcop real examples"
   ],
   "cell_type": "markdown",
   "metadata": {}
  },
  {
   "cell_type": "code",
   "execution_count": 171,
   "metadata": {},
   "outputs": [
    {
     "output_type": "execute_result",
     "data": {
      "text/plain": [
       "'Anne Heche and James Tupper Split After 10 Years Together'"
      ]
     },
     "metadata": {},
     "execution_count": 171
    }
   ],
   "source": [
    "title = gossipcop_real_all_data.title.iloc[1]\n",
    "title"
   ]
  },
  {
   "cell_type": "code",
   "execution_count": 172,
   "metadata": {},
   "outputs": [],
   "source": [
    "data = gossipcop_real_all_data[gossipcop_real_all_data.title == title]"
   ]
  },
  {
   "cell_type": "code",
   "execution_count": 173,
   "metadata": {},
   "outputs": [
    {
     "output_type": "execute_result",
     "data": {
      "text/plain": [
       "(50, 7)"
      ]
     },
     "metadata": {},
     "execution_count": 173
    }
   ],
   "source": [
    "data.shape"
   ]
  },
  {
   "cell_type": "code",
   "execution_count": 174,
   "metadata": {},
   "outputs": [
    {
     "output_type": "stream",
     "name": "stdout",
     "text": [
      "Anne Heche and James Tupper Break Up After More Than 10 Years Together Anne Heche and James Tupper have called it q… https://t.co/ilneupGXHW\nAnne Heche and James Tupper Break Up After More Than 10 Years Together https://t.co/WiB3SZBTRV via Cargohub.ng\nAnne Heche and James Tupper Break Up After More Than 10 Years Together Anne Heche and James Tupper have called it q… https://t.co/yQI5F143hL\nAnne Heche and James Tupper Break Up After More Than 10 Years Together Anne Heche and James Tupper have called it q… https://t.co/ROscDFXQjZ\nAnne Heche and James Tupper Break Up After More Than 10 Years Together Anne Heche and James Tupper have called it q… https://t.co/2XMWOdu35D\nAnne Heche and James Tupper Break Up After More Than 10 Years Together Anne Heche and James Tupper have called it q… https://t.co/aUH0pbftZE\n"
     ]
    }
   ],
   "source": [
    "print(data.text.iloc[0])\n",
    "print(data.text.iloc[1])\n",
    "print(data.text.iloc[2])\n",
    "print(data.text.iloc[3])\n",
    "print(data.text.iloc[4])\n",
    "print(data.text.iloc[42])"
   ]
  },
  {
   "cell_type": "code",
   "execution_count": 166,
   "metadata": {},
   "outputs": [
    {
     "output_type": "execute_result",
     "data": {
      "text/plain": [
       "'Gwyneth Paltrow reveals how she broke her foot on Jimmy Kimmel'"
      ]
     },
     "metadata": {},
     "execution_count": 166
    }
   ],
   "source": [
    "# second example \n",
    "title = gossipcop_real_all_data.title.iloc[498]\n",
    "title"
   ]
  },
  {
   "cell_type": "code",
   "execution_count": 167,
   "metadata": {},
   "outputs": [],
   "source": [
    "data = gossipcop_real_all_data[gossipcop_real_all_data.title == title]"
   ]
  },
  {
   "cell_type": "code",
   "execution_count": 168,
   "metadata": {},
   "outputs": [
    {
     "output_type": "execute_result",
     "data": {
      "text/plain": [
       "(93, 7)"
      ]
     },
     "metadata": {},
     "execution_count": 168
    }
   ],
   "source": [
    "data.shape"
   ]
  },
  {
   "cell_type": "code",
   "execution_count": 169,
   "metadata": {},
   "outputs": [
    {
     "output_type": "stream",
     "name": "stdout",
     "text": [
      "Gwyneth Paltrow Reveals How She Broke Her Foot https://t.co/VxmazMKwU4\nGwyneth Paltrow Reveals How She Broke Her Foot https://t.co/5nwmw69cvr\nGwyneth Paltrow Reveals How She Broke Her Foot https://t.co/zeUuwcJTm8\nSTORY ZA LUSHANELL: Gwyneth Paltrow Reveals How She Broke Her Foot https://t.co/n3QZfc9gZP\nGwyneth Paltrow Reveals How She Broke Her Foot Gwyneth Paltrow made an unusual entrance on Jimmy Kimmel Live! Mond… https://t.co/VWEbXU1CG9\n"
     ]
    }
   ],
   "source": [
    "print(data.text.iloc[0])\n",
    "print(data.text.iloc[1])\n",
    "print(data.text.iloc[2])\n",
    "print(data.text.iloc[3])\n",
    "print(data.text.iloc[4])"
   ]
  },
  {
   "cell_type": "code",
   "execution_count": null,
   "metadata": {},
   "outputs": [],
   "source": []
  }
 ]
}